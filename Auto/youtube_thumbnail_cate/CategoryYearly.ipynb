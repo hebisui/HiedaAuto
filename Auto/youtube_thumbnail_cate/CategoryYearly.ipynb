{
    "cells": [
        {
            "cell_type": "code",
            "execution_count": 1,
            "source": [
                "from PIL import Image\r\n",
                "import os\r\n",
                "import numpy as np\r\n",
                "\r\n",
                "from keras.datasets import cifar10\r\n",
                "from keras.layers import Input, Dense, Reshape, Flatten, Dropout\r\n",
                "from keras.layers import BatchNormalization, Activation, ZeroPadding2D,MaxPooling2D\r\n",
                "from keras.layers.advanced_activations import LeakyReLU,ReLU\r\n",
                "from keras.layers.convolutional import UpSampling2D, Conv2D\r\n",
                "from keras.models import Sequential, Model\r\n",
                "from keras.optimizers import Adam\r\n",
                "from sklearn.model_selection import train_test_split\r\n",
                "import matplotlib.pyplot as plt\r\n",
                "import pandas as pd"
            ],
            "outputs": [
                {
                    "output_type": "stream",
                    "name": "stderr",
                    "text": [
                        "Using TensorFlow backend.\n"
                    ]
                }
            ],
            "metadata": {}
        },
        {
            "cell_type": "code",
            "execution_count": 2,
            "source": [
                "originalImagePath=\"./image_original\"\r\n",
                "smallImagePath=\"./image_small\""
            ],
            "outputs": [],
            "metadata": {}
        },
        {
            "cell_type": "markdown",
            "source": [
                "### データセットの読み込み\r\n",
                "---"
            ],
            "metadata": {}
        },
        {
            "cell_type": "code",
            "execution_count": 3,
            "source": [
                "#縮小モデルの生成\r\n",
                "imageNameList=os.listdir(originalImagePath)\r\n",
                "for imageName in imageNameList:\r\n",
                "    img=Image.open(originalImagePath+\"/\"+imageName)\r\n",
                "    img=img.resize((32,32))\r\n",
                "    img.save(smallImagePath+\"/s\"+imageName)"
            ],
            "outputs": [],
            "metadata": {}
        },
        {
            "cell_type": "code",
            "execution_count": 4,
            "source": [
                "datay=np.loadtxt(\"viewnum.txt\")[:,1]\r\n",
                "\r\n",
                "persent=98\r\n",
                "q1,q2=np.percentile(np.log(datay),[50+persent/2,50-persent/2])\r\n",
                "mean=np.mean(np.log(datay))\r\n",
                "\r\n",
                "def func(x):\r\n",
                "    datay=np.log(x)\r\n",
                "    return (datay-mean)/(q1-q2)+0.5\r\n",
                "\r\n",
                "def invf(x):\r\n",
                "    datay=(x-0.5)*(q1-q2)+mean\r\n",
                "    return np.e**datay\r\n"
            ],
            "outputs": [],
            "metadata": {}
        },
        {
            "cell_type": "code",
            "execution_count": 5,
            "source": [
                "dataX=[]\r\n",
                "dataY=[]\r\n",
                "\r\n",
                "for imageName in imageNameList:\r\n",
                "    img=Image.open(smallImagePath+\"/s\"+imageName)\r\n",
                "    img=img.convert(\"RGB\")\r\n",
                "    data=np.asarray(img)#配列化\r\n",
                "    data=data/255.0#正規化\r\n",
                "\r\n",
                "    dataX.append(data)\r\n",
                "\r\n",
                "dataY=func(datay)"
            ],
            "outputs": [],
            "metadata": {}
        },
        {
            "cell_type": "code",
            "execution_count": 6,
            "source": [
                "# print([0]*3)"
            ],
            "outputs": [],
            "metadata": {}
        },
        {
            "cell_type": "code",
            "execution_count": 7,
            "source": [
                "# data15=np.loadtxt(\"viewnum.txt\")[0:315,1]\r\n",
                "# data16=np.loadtxt(\"viewnum.txt\")[315:554,1]\r\n",
                "# data17=np.loadtxt(\"viewnum.txt\")[554:851,1]\r\n",
                "# data18=np.loadtxt(\"viewnum.txt\")[851:1124,1]\r\n",
                "# data19=np.loadtxt(\"viewnum.txt\")[1124:1421,1]\r\n",
                "# data20=np.loadtxt(\"viewnum.txt\")[1421:1849,1]\r\n",
                "\r\n",
                "\r\n",
                "HBN=3#histgramBunkatuNum\r\n",
                "\r\n",
                "datamoto=np.loadtxt(\"viewnum.txt\")[:,1]\r\n",
                "# data=[\r\n",
                "# np.loadtxt(\"viewnum.txt\")[0:315,1]\r\n",
                "# ,np.loadtxt(\"viewnum.txt\")[315:554,1]\r\n",
                "# ,np.loadtxt(\"viewnum.txt\")[554:851,1]\r\n",
                "# ,np.loadtxt(\"viewnum.txt\")[851:1124,1]\r\n",
                "# ,np.loadtxt(\"viewnum.txt\")[1124:1421,1]\r\n",
                "# ,np.loadtxt(\"viewnum.txt\")[1421:1849,1]\r\n",
                "# ]\r\n",
                "data=[\r\n",
                "np.loadtxt(\"viewnum.txt\")[0:157,1]\r\n",
                ",np.loadtxt(\"viewnum.txt\")[157:315,1]\r\n",
                ",np.loadtxt(\"viewnum.txt\")[315:430,1]\r\n",
                ",np.loadtxt(\"viewnum.txt\")[430:554,1]\r\n",
                ",np.loadtxt(\"viewnum.txt\")[554:700,1]\r\n",
                ",np.loadtxt(\"viewnum.txt\")[700:851,1]\r\n",
                ",np.loadtxt(\"viewnum.txt\")[851:980,1]\r\n",
                ",np.loadtxt(\"viewnum.txt\")[980:1124,1]\r\n",
                ",np.loadtxt(\"viewnum.txt\")[1124:1270,1]\r\n",
                ",np.loadtxt(\"viewnum.txt\")[1270:1421,1]\r\n",
                ",np.loadtxt(\"viewnum.txt\")[1421:1621,1]\r\n",
                ",np.loadtxt(\"viewnum.txt\")[1621:1849,1]\r\n",
                "]\r\n",
                "\r\n",
                "\r\n",
                "\r\n",
                "def cateqcut(da):\r\n",
                "    ls=[]\r\n",
                "    for d in da:\r\n",
                "        ls.append(d)\r\n",
                "    return pd.qcut(pd.Series(ls),4,labels=False)\r\n",
                "\r\n",
                "\r\n",
                "aanan=[]\r\n",
                "for j in range(0,12):\r\n",
                "    for i in cateqcut(data[j]):\r\n",
                "        bbnbn=[0]*HBN\r\n",
                "        if i>=2:\r\n",
                "            i=2\r\n",
                "        bbnbn[i]=1\r\n",
                "        aanan.append(bbnbn)\r\n",
                "dataY=np.array(aanan)\r\n",
                "# print(dataY)\r\n",
                "\r\n",
                "# plt.hist(datamoto,bins=10,range=(0,20000000))\r\n",
                "for i in range(12):\r\n",
                "    plt.figure().add_subplot(1,1,1)\r\n",
                "    print(plt.hist(data[i],bins=10,range=(0,20000000)))"
            ],
            "outputs": [
                {
                    "output_type": "stream",
                    "name": "stdout",
                    "text": [
                        "(array([103.,  39.,   8.,   5.,   1.,   0.,   1.,   0.,   0.,   0.]), array([       0.,  2000000.,  4000000.,  6000000.,  8000000., 10000000.,\n",
                        "       12000000., 14000000., 16000000., 18000000., 20000000.]), <a list of 10 Patch objects>)\n",
                        "(array([85., 49., 16.,  5.,  1.,  1.,  0.,  0.,  0.,  0.]), array([       0.,  2000000.,  4000000.,  6000000.,  8000000., 10000000.,\n",
                        "       12000000., 14000000., 16000000., 18000000., 20000000.]), <a list of 10 Patch objects>)\n",
                        "(array([53., 34., 15.,  7.,  4.,  2.,  0.,  0.,  0.,  0.]), array([       0.,  2000000.,  4000000.,  6000000.,  8000000., 10000000.,\n",
                        "       12000000., 14000000., 16000000., 18000000., 20000000.]), <a list of 10 Patch objects>)\n",
                        "(array([42., 37., 27., 10.,  3.,  2.,  1.,  1.,  0.,  0.]), array([       0.,  2000000.,  4000000.,  6000000.,  8000000., 10000000.,\n",
                        "       12000000., 14000000., 16000000., 18000000., 20000000.]), <a list of 10 Patch objects>)\n",
                        "(array([34., 53., 23., 16.,  9.,  4.,  3.,  2.,  1.,  0.]), array([       0.,  2000000.,  4000000.,  6000000.,  8000000., 10000000.,\n",
                        "       12000000., 14000000., 16000000., 18000000., 20000000.]), <a list of 10 Patch objects>)\n",
                        "(array([13., 41., 39., 25., 20.,  8.,  4.,  1.,  0.,  0.]), array([       0.,  2000000.,  4000000.,  6000000.,  8000000., 10000000.,\n",
                        "       12000000., 14000000., 16000000., 18000000., 20000000.]), <a list of 10 Patch objects>)\n",
                        "(array([ 7., 24., 35., 24., 13., 13.,  9.,  2.,  1.,  1.]), array([       0.,  2000000.,  4000000.,  6000000.,  8000000., 10000000.,\n",
                        "       12000000., 14000000., 16000000., 18000000., 20000000.]), <a list of 10 Patch objects>)\n",
                        "(array([ 3., 26., 50., 28., 21.,  4.,  4.,  6.,  0.,  0.]), array([       0.,  2000000.,  4000000.,  6000000.,  8000000., 10000000.,\n",
                        "       12000000., 14000000., 16000000., 18000000., 20000000.]), <a list of 10 Patch objects>)\n",
                        "(array([ 2., 32., 44., 37., 20.,  5.,  3.,  1.,  1.,  0.]), array([       0.,  2000000.,  4000000.,  6000000.,  8000000., 10000000.,\n",
                        "       12000000., 14000000., 16000000., 18000000., 20000000.]), <a list of 10 Patch objects>)\n",
                        "(array([ 4., 44., 59., 24., 10.,  5.,  2.,  1.,  0.,  0.]), array([       0.,  2000000.,  4000000.,  6000000.,  8000000., 10000000.,\n",
                        "       12000000., 14000000., 16000000., 18000000., 20000000.]), <a list of 10 Patch objects>)\n",
                        "(array([ 9., 89., 61., 26.,  6.,  6.,  2.,  1.,  0.,  0.]), array([       0.,  2000000.,  4000000.,  6000000.,  8000000., 10000000.,\n",
                        "       12000000., 14000000., 16000000., 18000000., 20000000.]), <a list of 10 Patch objects>)\n",
                        "(array([ 27., 156.,  31.,   9.,   4.,   1.,   0.,   0.,   0.,   0.]), array([       0.,  2000000.,  4000000.,  6000000.,  8000000., 10000000.,\n",
                        "       12000000., 14000000., 16000000., 18000000., 20000000.]), <a list of 10 Patch objects>)\n"
                    ]
                },
                {
                    "output_type": "display_data",
                    "data": {
                        "text/plain": [
                            "<Figure size 432x288 with 1 Axes>"
                        ],
                        "image/png": "[encoded data removed]"
                    },
                    "metadata": {
                        "needs_background": "light"
                    }
                },
                {
                    "output_type": "display_data",
                    "data": {
                        "text/plain": [
                            "<Figure size 432x288 with 1 Axes>"
                        ],
                        "image/png": "[encoded data removed]"
                    },
                    "metadata": {
                        "needs_background": "light"
                    }
                },
                {
                    "output_type": "display_data",
                    "data": {
                        "text/plain": [
                            "<Figure size 432x288 with 1 Axes>"
                        ],
                        "image/png": "[encoded data removed]"
                    },
                    "metadata": {
                        "needs_background": "light"
                    }
                },
                {
                    "output_type": "display_data",
                    "data": {
                        "text/plain": [
                            "<Figure size 432x288 with 1 Axes>"
                        ],
                        "image/png": "[encoded data removed]"
                    },
                    "metadata": {
                        "needs_background": "light"
                    }
                },
                {
                    "output_type": "display_data",
                    "data": {
                        "text/plain": [
                            "<Figure size 432x288 with 1 Axes>"
                        ],
                        "image/png": "[encoded data removed]"
                    },
                    "metadata": {
                        "needs_background": "light"
                    }
                },
                {
                    "output_type": "display_data",
                    "data": {
                        "text/plain": [
                            "<Figure size 432x288 with 1 Axes>"
                        ],
                        "image/png": "[encoded data removed]"
                    },
                    "metadata": {
                        "needs_background": "light"
                    }
                },
                {
                    "output_type": "display_data",
                    "data": {
                        "text/plain": [
                            "<Figure size 432x288 with 1 Axes>"
                        ],
                        "image/png": "[encoded data removed]"
                    },
                    "metadata": {
                        "needs_background": "light"
                    }
                },
                {
                    "output_type": "display_data",
                    "data": {
                        "text/plain": [
                            "<Figure size 432x288 with 1 Axes>"
                        ],
                        "image/png": "[encoded data removed]"
                    },
                    "metadata": {
                        "needs_background": "light"
                    }
                },
                {
                    "output_type": "display_data",
                    "data": {
                        "text/plain": [
                            "<Figure size 432x288 with 1 Axes>"
                        ],
                        "image/png": "[encoded data removed]"
                    },
                    "metadata": {
                        "needs_background": "light"
                    }
                },
                {
                    "output_type": "display_data",
                    "data": {
                        "text/plain": [
                            "<Figure size 432x288 with 1 Axes>"
                        ],
                        "image/png": "[encoded data removed]"
                    },
                    "metadata": {
                        "needs_background": "light"
                    }
                },
                {
                    "output_type": "display_data",
                    "data": {
                        "text/plain": [
                            "<Figure size 432x288 with 1 Axes>"
                        ],
                        "image/png": "[encoded data removed]"
                    },
                    "metadata": {
                        "needs_background": "light"
                    }
                },
                {
                    "output_type": "display_data",
                    "data": {
                        "text/plain": [
                            "<Figure size 432x288 with 1 Axes>"
                        ],
                        "image/png": "[encoded data removed]"
                    },
                    "metadata": {
                        "needs_background": "light"
                    }
                }
            ],
            "metadata": {}
        },
        {
            "cell_type": "code",
            "execution_count": 8,
            "source": [
                "# data=np.loadtxt(\"viewnum.txt\")[:,1]\r\n",
                "\r\n",
                "# persent=98\r\n",
                "# q1,q2=np.percentile(np.log(data),[50+persent/2,50-persent/2])\r\n",
                "# mean=np.mean(np.log(data))\r\n",
                "\r\n",
                "# def func(x):\r\n",
                "#     data=np.log(x)\r\n",
                "#     return (data-mean)/(q1-q2)+0.5\r\n",
                "\r\n",
                "# def invf(x):\r\n",
                "#     data=(x-0.5)*(q1-q2)+mean\r\n",
                "#     return np.e**data\r\n",
                "\r\n",
                "\r\n",
                "\r\n",
                "# plt.hist(func(data),bins=40)\r\n",
                "# plt.hist(data,bins=100)"
            ],
            "outputs": [],
            "metadata": {}
        },
        {
            "cell_type": "code",
            "execution_count": 9,
            "source": [
                "dataX=np.asarray(dataX)\r\n",
                "dataY=np.asarray(dataY)\r\n",
                "\r\n",
                "X_train,X_test,y_train,y_test,imageName_train,imageName_test=train_test_split(dataX,dataY,imageNameList,test_size=0.2)"
            ],
            "outputs": [
                {
                    "output_type": "error",
                    "ename": "ValueError",
                    "evalue": "Found input variables with inconsistent numbers of samples: [1849, 1385, 1849]",
                    "traceback": [
                        "\u001b[1;31m---------------------------------------------------------------------------\u001b[0m",
                        "\u001b[1;31mValueError\u001b[0m                                Traceback (most recent call last)",
                        "\u001b[1;32m<ipython-input-9-23de1f4cf0e2>\u001b[0m in \u001b[0;36m<module>\u001b[1;34m\u001b[0m\n\u001b[0;32m      2\u001b[0m \u001b[0mdataY\u001b[0m\u001b[1;33m=\u001b[0m\u001b[0mnp\u001b[0m\u001b[1;33m.\u001b[0m\u001b[0masarray\u001b[0m\u001b[1;33m(\u001b[0m\u001b[0mdataY\u001b[0m\u001b[1;33m)\u001b[0m\u001b[1;33m\u001b[0m\u001b[1;33m\u001b[0m\u001b[0m\n\u001b[0;32m      3\u001b[0m \u001b[1;33m\u001b[0m\u001b[0m\n\u001b[1;32m----> 4\u001b[1;33m \u001b[0mX_train\u001b[0m\u001b[1;33m,\u001b[0m\u001b[0mX_test\u001b[0m\u001b[1;33m,\u001b[0m\u001b[0my_train\u001b[0m\u001b[1;33m,\u001b[0m\u001b[0my_test\u001b[0m\u001b[1;33m,\u001b[0m\u001b[0mimageName_train\u001b[0m\u001b[1;33m,\u001b[0m\u001b[0mimageName_test\u001b[0m\u001b[1;33m=\u001b[0m\u001b[0mtrain_test_split\u001b[0m\u001b[1;33m(\u001b[0m\u001b[0mdataX\u001b[0m\u001b[1;33m,\u001b[0m\u001b[0mdataY\u001b[0m\u001b[1;33m,\u001b[0m\u001b[0mimageNameList\u001b[0m\u001b[1;33m,\u001b[0m\u001b[0mtest_size\u001b[0m\u001b[1;33m=\u001b[0m\u001b[1;36m0.2\u001b[0m\u001b[1;33m)\u001b[0m\u001b[1;33m\u001b[0m\u001b[1;33m\u001b[0m\u001b[0m\n\u001b[0m",
                        "\u001b[1;32m~\\AppData\\Local\\Programs\\Python\\Python36\\lib\\site-packages\\sklearn\\model_selection\\_split.py\u001b[0m in \u001b[0;36mtrain_test_split\u001b[1;34m(*arrays, **options)\u001b[0m\n\u001b[0;32m   2094\u001b[0m         \u001b[1;32mraise\u001b[0m \u001b[0mTypeError\u001b[0m\u001b[1;33m(\u001b[0m\u001b[1;34m\"Invalid parameters passed: %s\"\u001b[0m \u001b[1;33m%\u001b[0m \u001b[0mstr\u001b[0m\u001b[1;33m(\u001b[0m\u001b[0moptions\u001b[0m\u001b[1;33m)\u001b[0m\u001b[1;33m)\u001b[0m\u001b[1;33m\u001b[0m\u001b[1;33m\u001b[0m\u001b[0m\n\u001b[0;32m   2095\u001b[0m \u001b[1;33m\u001b[0m\u001b[0m\n\u001b[1;32m-> 2096\u001b[1;33m     \u001b[0marrays\u001b[0m \u001b[1;33m=\u001b[0m \u001b[0mindexable\u001b[0m\u001b[1;33m(\u001b[0m\u001b[1;33m*\u001b[0m\u001b[0marrays\u001b[0m\u001b[1;33m)\u001b[0m\u001b[1;33m\u001b[0m\u001b[1;33m\u001b[0m\u001b[0m\n\u001b[0m\u001b[0;32m   2097\u001b[0m \u001b[1;33m\u001b[0m\u001b[0m\n\u001b[0;32m   2098\u001b[0m     \u001b[0mn_samples\u001b[0m \u001b[1;33m=\u001b[0m \u001b[0m_num_samples\u001b[0m\u001b[1;33m(\u001b[0m\u001b[0marrays\u001b[0m\u001b[1;33m[\u001b[0m\u001b[1;36m0\u001b[0m\u001b[1;33m]\u001b[0m\u001b[1;33m)\u001b[0m\u001b[1;33m\u001b[0m\u001b[1;33m\u001b[0m\u001b[0m\n",
                        "\u001b[1;32m~\\AppData\\Local\\Programs\\Python\\Python36\\lib\\site-packages\\sklearn\\utils\\validation.py\u001b[0m in \u001b[0;36mindexable\u001b[1;34m(*iterables)\u001b[0m\n\u001b[0;32m    228\u001b[0m         \u001b[1;32melse\u001b[0m\u001b[1;33m:\u001b[0m\u001b[1;33m\u001b[0m\u001b[1;33m\u001b[0m\u001b[0m\n\u001b[0;32m    229\u001b[0m             \u001b[0mresult\u001b[0m\u001b[1;33m.\u001b[0m\u001b[0mappend\u001b[0m\u001b[1;33m(\u001b[0m\u001b[0mnp\u001b[0m\u001b[1;33m.\u001b[0m\u001b[0marray\u001b[0m\u001b[1;33m(\u001b[0m\u001b[0mX\u001b[0m\u001b[1;33m)\u001b[0m\u001b[1;33m)\u001b[0m\u001b[1;33m\u001b[0m\u001b[1;33m\u001b[0m\u001b[0m\n\u001b[1;32m--> 230\u001b[1;33m     \u001b[0mcheck_consistent_length\u001b[0m\u001b[1;33m(\u001b[0m\u001b[1;33m*\u001b[0m\u001b[0mresult\u001b[0m\u001b[1;33m)\u001b[0m\u001b[1;33m\u001b[0m\u001b[1;33m\u001b[0m\u001b[0m\n\u001b[0m\u001b[0;32m    231\u001b[0m     \u001b[1;32mreturn\u001b[0m \u001b[0mresult\u001b[0m\u001b[1;33m\u001b[0m\u001b[1;33m\u001b[0m\u001b[0m\n\u001b[0;32m    232\u001b[0m \u001b[1;33m\u001b[0m\u001b[0m\n",
                        "\u001b[1;32m~\\AppData\\Local\\Programs\\Python\\Python36\\lib\\site-packages\\sklearn\\utils\\validation.py\u001b[0m in \u001b[0;36mcheck_consistent_length\u001b[1;34m(*arrays)\u001b[0m\n\u001b[0;32m    203\u001b[0m     \u001b[1;32mif\u001b[0m \u001b[0mlen\u001b[0m\u001b[1;33m(\u001b[0m\u001b[0muniques\u001b[0m\u001b[1;33m)\u001b[0m \u001b[1;33m>\u001b[0m \u001b[1;36m1\u001b[0m\u001b[1;33m:\u001b[0m\u001b[1;33m\u001b[0m\u001b[1;33m\u001b[0m\u001b[0m\n\u001b[0;32m    204\u001b[0m         raise ValueError(\"Found input variables with inconsistent numbers of\"\n\u001b[1;32m--> 205\u001b[1;33m                          \" samples: %r\" % [int(l) for l in lengths])\n\u001b[0m\u001b[0;32m    206\u001b[0m \u001b[1;33m\u001b[0m\u001b[0m\n\u001b[0;32m    207\u001b[0m \u001b[1;33m\u001b[0m\u001b[0m\n",
                        "\u001b[1;31mValueError\u001b[0m: Found input variables with inconsistent numbers of samples: [1849, 1385, 1849]"
                    ]
                }
            ],
            "metadata": {}
        },
        {
            "cell_type": "markdown",
            "source": [
                "### モデルの定義\r\n",
                "---"
            ],
            "metadata": {}
        },
        {
            "cell_type": "code",
            "execution_count": null,
            "source": [
                "# img_shape=(32,32,3)\r\n",
                "# optimizer = Adam(0.0002, 0.5)\r\n",
                "\r\n",
                "# def CNN():\r\n",
                "#     cnn=Sequential()\r\n",
                "\r\n",
                "#     cnn.add(Conv2D(8,(3,3),input_shape=img_shape))\r\n",
                "#     cnn.add(LeakyReLU(alpha=0.2))\r\n",
                "#     cnn.add(BatchNormalization(momentum=0.8,axis=1))\r\n",
                "\r\n",
                "#     cnn.add(MaxPooling2D(pool_size=(2,2)))\r\n",
                "\r\n",
                "#     cnn.add(Conv2D(16,(3,3),input_shape=img_shape))\r\n",
                "#     cnn.add(LeakyReLU(alpha=0.2))\r\n",
                "#     cnn.add(BatchNormalization(momentum=0.8,axis=1))\r\n",
                "\r\n",
                "#     cnn.add(MaxPooling2D(pool_size=(2,2)))\r\n",
                "\r\n",
                "#     cnn.add(Conv2D(32,(3,3),input_shape=img_shape))\r\n",
                "#     cnn.add(LeakyReLU(alpha=0.2))\r\n",
                "#     cnn.add(BatchNormalization(momentum=0.8,axis=1))\r\n",
                "\r\n",
                "\r\n",
                "#     cnn.add(Flatten())\r\n",
                "\r\n",
                "#     cnn.add(Dense(HBN))\r\n",
                "\r\n",
                "#     cnn.add(Activation(\"sigmoid\"))\r\n",
                "\r\n",
                "#     cnn.summary()\r\n",
                "\r\n",
                "#     cnn.compile(loss='categorical_crossentropy',\r\n",
                "#                 optimizer='sgd',\r\n",
                "#                 metrics=['accuracy'])\r\n",
                "\r\n",
                "#     return cnn\r\n",
                "# cnn=CNN()\r\n"
            ],
            "outputs": [],
            "metadata": {}
        },
        {
            "cell_type": "code",
            "execution_count": null,
            "source": [
                "\r\n",
                "img_shape=(32,32,3)\r\n",
                "optimizer = Adam(0.0002, 0.5)\r\n",
                "\r\n",
                "def CNN():\r\n",
                "    cnn=Sequential()\r\n",
                "\r\n",
                "    cnn.add(Conv2D(8,(2,2),strides=(1,1),input_shape=img_shape))\r\n",
                "    cnn.add(LeakyReLU(alpha=0.2))\r\n",
                "    cnn.add(BatchNormalization(momentum=0.8,axis=1))\r\n",
                "\r\n",
                "    cnn.add(MaxPooling2D(pool_size=(2,2)))\r\n",
                "    cnn.add(Dense(20))\r\n",
                "    cnn.add(ReLU())\r\n",
                "    cnn.add(Dropout(0.5))\r\n",
                "\r\n",
                "    cnn.add(Flatten())\r\n",
                "\r\n",
                "\r\n",
                "    cnn.add(Dense(HBN))\r\n",
                "\r\n",
                "    cnn.add(Activation(\"softmax\"))\r\n",
                "\r\n",
                "    cnn.summary()\r\n",
                "\r\n",
                "    cnn.compile(loss='categorical_crossentropy',\r\n",
                "                optimizer='sgd',\r\n",
                "                metrics=['accuracy'])\r\n",
                "\r\n",
                "    return cnn\r\n",
                "cnn=CNN()\r\n"
            ],
            "outputs": [
                {
                    "output_type": "stream",
                    "name": "stdout",
                    "text": [
                        "WARNING:tensorflow:From C:\\Users\\naruse\\AppData\\Local\\Programs\\Python\\Python36\\lib\\site-packages\\tensorflow\\python\\framework\\op_def_library.py:263: colocate_with (from tensorflow.python.framework.ops) is deprecated and will be removed in a future version.\n",
                        "Instructions for updating:\n",
                        "Colocations handled automatically by placer.\n",
                        "WARNING:tensorflow:From C:\\Users\\naruse\\AppData\\Local\\Programs\\Python\\Python36\\lib\\site-packages\\keras\\backend\\tensorflow_backend.py:3445: calling dropout (from tensorflow.python.ops.nn_ops) with keep_prob is deprecated and will be removed in a future version.\n",
                        "Instructions for updating:\n",
                        "Please use `rate` instead of `keep_prob`. Rate should be set to `rate = 1 - keep_prob`.\n",
                        "_________________________________________________________________\n",
                        "Layer (type)                 Output Shape              Param #   \n",
                        "=================================================================\n",
                        "conv2d_1 (Conv2D)            (None, 31, 31, 8)         104       \n",
                        "_________________________________________________________________\n",
                        "leaky_re_lu_1 (LeakyReLU)    (None, 31, 31, 8)         0         \n",
                        "_________________________________________________________________\n",
                        "batch_normalization_1 (Batch (None, 31, 31, 8)         124       \n",
                        "_________________________________________________________________\n",
                        "max_pooling2d_1 (MaxPooling2 (None, 15, 15, 8)         0         \n",
                        "_________________________________________________________________\n",
                        "dense_1 (Dense)              (None, 15, 15, 20)        180       \n",
                        "_________________________________________________________________\n",
                        "re_lu_1 (ReLU)               (None, 15, 15, 20)        0         \n",
                        "_________________________________________________________________\n",
                        "dropout_1 (Dropout)          (None, 15, 15, 20)        0         \n",
                        "_________________________________________________________________\n",
                        "flatten_1 (Flatten)          (None, 4500)              0         \n",
                        "_________________________________________________________________\n",
                        "dense_2 (Dense)              (None, 3)                 13503     \n",
                        "_________________________________________________________________\n",
                        "activation_1 (Activation)    (None, 3)                 0         \n",
                        "=================================================================\n",
                        "Total params: 13,911\n",
                        "Trainable params: 13,849\n",
                        "Non-trainable params: 62\n",
                        "_________________________________________________________________\n"
                    ]
                }
            ],
            "metadata": {}
        },
        {
            "cell_type": "markdown",
            "source": [
                "### 学習\r\n",
                "___"
            ],
            "metadata": {}
        },
        {
            "cell_type": "code",
            "execution_count": null,
            "source": [
                "cnn.fit(X_train,y_train,epochs=100)"
            ],
            "outputs": [
                {
                    "output_type": "stream",
                    "name": "stdout",
                    "text": [
                        "WARNING:tensorflow:From C:\\Users\\naruse\\AppData\\Local\\Programs\\Python\\Python36\\lib\\site-packages\\tensorflow\\python\\ops\\math_ops.py:3066: to_int32 (from tensorflow.python.ops.math_ops) is deprecated and will be removed in a future version.\n",
                        "Instructions for updating:\n",
                        "Use tf.cast instead.\n",
                        "Epoch 1/100\n",
                        "1479/1479 [==============================] - 1s 579us/step - loss: 1.1503 - acc: 0.4435\n",
                        "Epoch 2/100\n",
                        "1479/1479 [==============================] - 1s 355us/step - loss: 1.0832 - acc: 0.4665\n",
                        "Epoch 3/100\n",
                        "1479/1479 [==============================] - 1s 349us/step - loss: 1.0427 - acc: 0.4902\n",
                        "Epoch 4/100\n",
                        "1479/1479 [==============================] - 1s 347us/step - loss: 1.0224 - acc: 0.4997\n",
                        "Epoch 5/100\n",
                        "1479/1479 [==============================] - 1s 350us/step - loss: 1.0111 - acc: 0.5098\n",
                        "Epoch 6/100\n",
                        "1479/1479 [==============================] - 1s 350us/step - loss: 1.0092 - acc: 0.5071\n",
                        "Epoch 7/100\n",
                        "1479/1479 [==============================] - 1s 347us/step - loss: 0.9938 - acc: 0.5125\n",
                        "Epoch 8/100\n",
                        "1479/1479 [==============================] - 1s 358us/step - loss: 0.9911 - acc: 0.5152\n",
                        "Epoch 9/100\n",
                        "1479/1479 [==============================] - 1s 362us/step - loss: 0.9859 - acc: 0.5267\n",
                        "Epoch 10/100\n",
                        "1479/1479 [==============================] - 1s 345us/step - loss: 0.9751 - acc: 0.5213\n",
                        "Epoch 11/100\n",
                        "1479/1479 [==============================] - 1s 346us/step - loss: 0.9659 - acc: 0.5456\n",
                        "Epoch 12/100\n",
                        "1479/1479 [==============================] - 1s 347us/step - loss: 0.9510 - acc: 0.5308\n",
                        "Epoch 13/100\n",
                        "1479/1479 [==============================] - 1s 352us/step - loss: 0.9285 - acc: 0.5565\n",
                        "Epoch 14/100\n",
                        "1479/1479 [==============================] - 1s 363us/step - loss: 0.9392 - acc: 0.5531\n",
                        "Epoch 15/100\n",
                        "1479/1479 [==============================] - 1s 388us/step - loss: 0.9110 - acc: 0.5822\n",
                        "Epoch 16/100\n",
                        "1479/1479 [==============================] - 1s 346us/step - loss: 0.9108 - acc: 0.5828\n",
                        "Epoch 17/100\n",
                        "1479/1479 [==============================] - 1s 359us/step - loss: 0.8986 - acc: 0.5815\n",
                        "Epoch 18/100\n",
                        "1479/1479 [==============================] - 0s 331us/step - loss: 0.9084 - acc: 0.5754\n",
                        "Epoch 19/100\n",
                        "1479/1479 [==============================] - 1s 347us/step - loss: 0.8887 - acc: 0.5923\n",
                        "Epoch 20/100\n",
                        "1479/1479 [==============================] - 0s 336us/step - loss: 0.8802 - acc: 0.5943\n",
                        "Epoch 21/100\n",
                        "1479/1479 [==============================] - 1s 381us/step - loss: 0.8685 - acc: 0.5984\n",
                        "Epoch 22/100\n",
                        "1479/1479 [==============================] - 1s 349us/step - loss: 0.8477 - acc: 0.6092\n",
                        "Epoch 23/100\n",
                        "1479/1479 [==============================] - 1s 356us/step - loss: 0.8528 - acc: 0.6146\n",
                        "Epoch 24/100\n",
                        "1479/1479 [==============================] - 1s 346us/step - loss: 0.8421 - acc: 0.6065\n",
                        "Epoch 25/100\n",
                        "1479/1479 [==============================] - 1s 347us/step - loss: 0.8105 - acc: 0.6369\n",
                        "Epoch 26/100\n",
                        "1479/1479 [==============================] - 1s 345us/step - loss: 0.8325 - acc: 0.6139\n",
                        "Epoch 27/100\n",
                        "1479/1479 [==============================] - 1s 351us/step - loss: 0.8222 - acc: 0.6288\n",
                        "Epoch 28/100\n",
                        "1479/1479 [==============================] - 0s 336us/step - loss: 0.8030 - acc: 0.6376\n",
                        "Epoch 29/100\n",
                        "1479/1479 [==============================] - 0s 336us/step - loss: 0.7752 - acc: 0.6565\n",
                        "Epoch 30/100\n",
                        "1479/1479 [==============================] - 0s 337us/step - loss: 0.7649 - acc: 0.6619\n",
                        "Epoch 31/100\n",
                        "1479/1479 [==============================] - 0s 338us/step - loss: 0.7621 - acc: 0.6531\n",
                        "Epoch 32/100\n",
                        "1479/1479 [==============================] - 1s 346us/step - loss: 0.7650 - acc: 0.6599\n",
                        "Epoch 33/100\n",
                        "1479/1479 [==============================] - 1s 351us/step - loss: 0.7547 - acc: 0.6707\n",
                        "Epoch 34/100\n",
                        "1479/1479 [==============================] - 1s 349us/step - loss: 0.7253 - acc: 0.6849\n",
                        "Epoch 35/100\n",
                        "1479/1479 [==============================] - 1s 351us/step - loss: 0.7338 - acc: 0.6721\n",
                        "Epoch 36/100\n",
                        "1479/1479 [==============================] - 1s 351us/step - loss: 0.7395 - acc: 0.6734\n",
                        "Epoch 37/100\n",
                        "1479/1479 [==============================] - 1s 347us/step - loss: 0.7266 - acc: 0.6775\n",
                        "Epoch 38/100\n",
                        "1479/1479 [==============================] - 1s 361us/step - loss: 0.7193 - acc: 0.6822\n",
                        "Epoch 39/100\n",
                        "1479/1479 [==============================] - 1s 343us/step - loss: 0.7246 - acc: 0.6755\n",
                        "Epoch 40/100\n",
                        "1479/1479 [==============================] - 1s 351us/step - loss: 0.7106 - acc: 0.6856\n",
                        "Epoch 41/100\n",
                        "1479/1479 [==============================] - 1s 340us/step - loss: 0.6795 - acc: 0.7052\n",
                        "Epoch 42/100\n",
                        "1479/1479 [==============================] - 1s 349us/step - loss: 0.6937 - acc: 0.7066\n",
                        "Epoch 43/100\n",
                        "1479/1479 [==============================] - 1s 347us/step - loss: 0.6856 - acc: 0.6991\n",
                        "Epoch 44/100\n",
                        "1479/1479 [==============================] - 0s 335us/step - loss: 0.6637 - acc: 0.7174\n",
                        "Epoch 45/100\n",
                        "1479/1479 [==============================] - 0s 333us/step - loss: 0.6516 - acc: 0.7336\n",
                        "Epoch 46/100\n",
                        "1479/1479 [==============================] - 1s 339us/step - loss: 0.6701 - acc: 0.7275\n",
                        "Epoch 47/100\n",
                        "1479/1479 [==============================] - 1s 396us/step - loss: 0.6588 - acc: 0.7153\n",
                        "Epoch 48/100\n",
                        "1479/1479 [==============================] - 1s 363us/step - loss: 0.6661 - acc: 0.7181\n",
                        "Epoch 49/100\n",
                        "1479/1479 [==============================] - 1s 344us/step - loss: 0.6561 - acc: 0.7153\n",
                        "Epoch 50/100\n",
                        "1479/1479 [==============================] - 1s 377us/step - loss: 0.6292 - acc: 0.7302\n",
                        "Epoch 51/100\n",
                        "1479/1479 [==============================] - 1s 391us/step - loss: 0.6229 - acc: 0.7289\n",
                        "Epoch 52/100\n",
                        "1479/1479 [==============================] - 1s 433us/step - loss: 0.6314 - acc: 0.7390\n",
                        "Epoch 53/100\n",
                        "1479/1479 [==============================] - 1s 401us/step - loss: 0.6590 - acc: 0.7282\n",
                        "Epoch 54/100\n",
                        "1479/1479 [==============================] - 1s 386us/step - loss: 0.6126 - acc: 0.7377\n",
                        "Epoch 55/100\n",
                        "1479/1479 [==============================] - 1s 350us/step - loss: 0.6053 - acc: 0.7404\n",
                        "Epoch 56/100\n",
                        "1479/1479 [==============================] - 0s 331us/step - loss: 0.6253 - acc: 0.7262\n",
                        "Epoch 57/100\n",
                        "1479/1479 [==============================] - 0s 330us/step - loss: 0.5919 - acc: 0.7579\n",
                        "Epoch 58/100\n",
                        "1479/1479 [==============================] - 0s 327us/step - loss: 0.6018 - acc: 0.7437\n",
                        "Epoch 59/100\n",
                        "1479/1479 [==============================] - 0s 326us/step - loss: 0.5766 - acc: 0.7586\n",
                        "Epoch 60/100\n",
                        "1479/1479 [==============================] - 0s 329us/step - loss: 0.5652 - acc: 0.7566\n",
                        "Epoch 61/100\n",
                        "1479/1479 [==============================] - 0s 326us/step - loss: 0.5898 - acc: 0.7410\n",
                        "Epoch 62/100\n",
                        "1479/1479 [==============================] - 0s 332us/step - loss: 0.5964 - acc: 0.7458\n",
                        "Epoch 63/100\n",
                        "1479/1479 [==============================] - 0s 337us/step - loss: 0.5594 - acc: 0.7701\n",
                        "Epoch 64/100\n",
                        "1479/1479 [==============================] - 1s 347us/step - loss: 0.5654 - acc: 0.7694\n",
                        "Epoch 65/100\n",
                        "1479/1479 [==============================] - 0s 329us/step - loss: 0.5854 - acc: 0.7600\n",
                        "Epoch 66/100\n",
                        "1479/1479 [==============================] - 0s 336us/step - loss: 0.5776 - acc: 0.7566\n",
                        "Epoch 67/100\n",
                        "1479/1479 [==============================] - 0s 333us/step - loss: 0.5626 - acc: 0.7796\n",
                        "Epoch 68/100\n",
                        "1479/1479 [==============================] - 0s 334us/step - loss: 0.5658 - acc: 0.7661\n",
                        "Epoch 69/100\n",
                        "1479/1479 [==============================] - 0s 332us/step - loss: 0.5512 - acc: 0.7789\n",
                        "Epoch 70/100\n",
                        "1479/1479 [==============================] - 0s 335us/step - loss: 0.5471 - acc: 0.7708\n",
                        "Epoch 71/100\n",
                        "1479/1479 [==============================] - 0s 337us/step - loss: 0.5590 - acc: 0.7688\n",
                        "Epoch 72/100\n",
                        "1479/1479 [==============================] - 0s 335us/step - loss: 0.5433 - acc: 0.7708\n",
                        "Epoch 73/100\n",
                        "1479/1479 [==============================] - 0s 333us/step - loss: 0.5263 - acc: 0.7823\n",
                        "Epoch 74/100\n",
                        "1479/1479 [==============================] - 1s 355us/step - loss: 0.5128 - acc: 0.8005\n",
                        "Epoch 75/100\n",
                        "1479/1479 [==============================] - 0s 326us/step - loss: 0.5321 - acc: 0.7830\n",
                        "Epoch 76/100\n",
                        "1479/1479 [==============================] - 0s 325us/step - loss: 0.5238 - acc: 0.7796\n",
                        "Epoch 77/100\n",
                        "1479/1479 [==============================] - 0s 332us/step - loss: 0.5066 - acc: 0.7938\n",
                        "Epoch 78/100\n",
                        "1479/1479 [==============================] - 0s 331us/step - loss: 0.5222 - acc: 0.7904\n",
                        "Epoch 79/100\n",
                        "1479/1479 [==============================] - 1s 368us/step - loss: 0.4925 - acc: 0.7978\n",
                        "Epoch 80/100\n",
                        "1479/1479 [==============================] - 1s 347us/step - loss: 0.5048 - acc: 0.7924\n",
                        "Epoch 81/100\n",
                        "1479/1479 [==============================] - 0s 333us/step - loss: 0.5072 - acc: 0.7877\n",
                        "Epoch 82/100\n",
                        "1479/1479 [==============================] - 0s 335us/step - loss: 0.5068 - acc: 0.7816\n",
                        "Epoch 83/100\n",
                        "1479/1479 [==============================] - 0s 329us/step - loss: 0.5162 - acc: 0.7850\n",
                        "Epoch 84/100\n",
                        "1479/1479 [==============================] - 0s 330us/step - loss: 0.4765 - acc: 0.8080\n",
                        "Epoch 85/100\n",
                        "1479/1479 [==============================] - 0s 325us/step - loss: 0.5385 - acc: 0.7674\n",
                        "Epoch 86/100\n",
                        "1479/1479 [==============================] - 0s 330us/step - loss: 0.4830 - acc: 0.8046\n",
                        "Epoch 87/100\n",
                        "1479/1479 [==============================] - 0s 326us/step - loss: 0.5151 - acc: 0.7918\n",
                        "Epoch 88/100\n",
                        "1479/1479 [==============================] - 0s 325us/step - loss: 0.4760 - acc: 0.8093\n",
                        "Epoch 89/100\n",
                        "1479/1479 [==============================] - 0s 322us/step - loss: 0.4780 - acc: 0.8073\n",
                        "Epoch 90/100\n",
                        "1479/1479 [==============================] - 0s 323us/step - loss: 0.4702 - acc: 0.8046\n",
                        "Epoch 91/100\n",
                        "1479/1479 [==============================] - 0s 331us/step - loss: 0.4805 - acc: 0.8066\n",
                        "Epoch 92/100\n",
                        "1479/1479 [==============================] - 0s 336us/step - loss: 0.4685 - acc: 0.7999\n",
                        "Epoch 93/100\n",
                        "1479/1479 [==============================] - 0s 337us/step - loss: 0.4505 - acc: 0.8174\n",
                        "Epoch 94/100\n",
                        "1479/1479 [==============================] - 0s 336us/step - loss: 0.4626 - acc: 0.8107\n",
                        "Epoch 95/100\n",
                        "1479/1479 [==============================] - 0s 331us/step - loss: 0.4798 - acc: 0.7978\n",
                        "Epoch 96/100\n",
                        "1479/1479 [==============================] - 0s 328us/step - loss: 0.4654 - acc: 0.8093\n",
                        "Epoch 97/100\n",
                        "1479/1479 [==============================] - 0s 323us/step - loss: 0.4619 - acc: 0.8174\n",
                        "Epoch 98/100\n",
                        "1479/1479 [==============================] - 0s 328us/step - loss: 0.4461 - acc: 0.8242\n",
                        "Epoch 99/100\n",
                        "1479/1479 [==============================] - 0s 328us/step - loss: 0.4431 - acc: 0.8296\n",
                        "Epoch 100/100\n",
                        "1479/1479 [==============================] - 0s 327us/step - loss: 0.4387 - acc: 0.8276\n"
                    ]
                },
                {
                    "output_type": "execute_result",
                    "data": {
                        "text/plain": [
                            "<keras.callbacks.History at 0x1361e48ae48>"
                        ]
                    },
                    "metadata": {},
                    "execution_count": 12
                }
            ],
            "metadata": {}
        },
        {
            "cell_type": "markdown",
            "source": [
                "### 推論"
            ],
            "metadata": {}
        },
        {
            "cell_type": "code",
            "execution_count": null,
            "source": [
                "# d=[]\r\n",
                "# for i,j in zip(invf(cnn.predict(X_test)),invf(y_test)):\r\n",
                "#     d.append(float(i/j))\r\n",
                "\r\n",
                "\r\n",
                "\r\n",
                "\r\n",
                "\r\n",
                "# print(plt.hist(d,bins=100,range=(0,4)))"
            ],
            "outputs": [],
            "metadata": {}
        },
        {
            "cell_type": "code",
            "execution_count": null,
            "source": [
                "\r\n",
                "# X_test\r\n",
                "cnnX_test=cnn.predict(X_test)"
            ],
            "outputs": [],
            "metadata": {}
        },
        {
            "cell_type": "code",
            "execution_count": null,
            "source": [
                "y_test"
            ],
            "outputs": [
                {
                    "output_type": "execute_result",
                    "data": {
                        "text/plain": [
                            "array([[1, 0, 0],\n",
                            "       [1, 0, 0],\n",
                            "       [0, 0, 1],\n",
                            "       ...,\n",
                            "       [0, 0, 1],\n",
                            "       [0, 1, 0],\n",
                            "       [1, 0, 0]])"
                        ]
                    },
                    "metadata": {},
                    "execution_count": 15
                }
            ],
            "metadata": {}
        },
        {
            "cell_type": "code",
            "execution_count": null,
            "source": [
                "corre=0\r\n",
                "aan=cnnX_test.tolist()\r\n",
                "bbn=y_test.tolist()\r\n",
                "for i in range(len(X_test)):\r\n",
                "    \r\n",
                "    aan[i].index(max(aan[i]))\r\n",
                "    \r\n",
                "    if aan[i].index(max(aan[i])) == bbn[i].index(1):\r\n",
                "        corre+=1\r\n",
                "        # print(i)\r\n",
                "\r\n",
                "print(corre,corre/len(X_test))"
            ],
            "outputs": [
                {
                    "output_type": "stream",
                    "name": "stdout",
                    "text": [
                        "161 0.43513513513513513\n"
                    ]
                }
            ],
            "metadata": {}
        },
        {
            "cell_type": "code",
            "execution_count": null,
            "source": [
                "aan"
            ],
            "outputs": [
                {
                    "output_type": "execute_result",
                    "data": {
                        "text/plain": [
                            "[[0.00901639275252819, 0.0424748957157135, 0.9485086798667908],\n",
                            " [0.03645860031247139, 0.017370641231536865, 0.9461707472801208],\n",
                            " [0.06055786833167076, 0.025139138102531433, 0.9143030643463135],\n",
                            " [0.08231133967638016, 0.15409106016159058, 0.7635976672172546],\n",
                            " [0.0008322278736159205, 6.049639523553196e-06, 0.9991617202758789],\n",
                            " [0.7003260850906372, 0.17626699805259705, 0.12340695410966873],\n",
                            " [0.1772366762161255, 0.7022391557693481, 0.12052413076162338],\n",
                            " [0.45615217089653015, 0.07095175236463547, 0.472896009683609],\n",
                            " [0.436221718788147, 0.2408514767885208, 0.322926789522171],\n",
                            " [0.1971915066242218, 0.15010994672775269, 0.6526985168457031],\n",
                            " [0.13001485168933868, 0.09900546818971634, 0.770979642868042],\n",
                            " [0.04408944398164749, 0.22697874903678894, 0.7289318442344666],\n",
                            " [0.3608338534832001, 0.36831071972846985, 0.2708554267883301],\n",
                            " [0.00024541030870750546, 0.01804158464074135, 0.9817129969596863],\n",
                            " [0.02918141521513462, 0.09709413349628448, 0.8737245202064514],\n",
                            " [0.6024106740951538, 0.08460482954978943, 0.31298455595970154],\n",
                            " [0.05959608778357506, 0.036463186144828796, 0.903940737247467],\n",
                            " [0.33234903216362, 0.37506869435310364, 0.29258233308792114],\n",
                            " [0.06652030348777771, 0.10868680477142334, 0.8247928619384766],\n",
                            " [0.006198049522936344, 0.3824813961982727, 0.6113205552101135],\n",
                            " [0.1341405212879181, 0.6986399292945862, 0.16721954941749573],\n",
                            " [0.1833917498588562, 0.47427111864089966, 0.34233707189559937],\n",
                            " [0.38314002752304077, 0.02022835984826088, 0.5966317057609558],\n",
                            " [0.10472700744867325, 0.1501232385635376, 0.7451497316360474],\n",
                            " [0.13433778285980225, 0.00518006319180131, 0.8604821562767029],\n",
                            " [0.038640934973955154, 0.6958568096160889, 0.26550233364105225],\n",
                            " [0.324017733335495, 0.22478856146335602, 0.4511937201023102],\n",
                            " [0.016156891360878944, 0.040015049278736115, 0.9438280463218689],\n",
                            " [0.3680362403392792, 0.10804770141839981, 0.5239160656929016],\n",
                            " [0.1794513612985611, 0.4518738090991974, 0.3686748445034027],\n",
                            " [0.025671832263469696, 0.004180801101028919, 0.9701473712921143],\n",
                            " [0.7178061604499817, 0.03140280768275261, 0.2507910430431366],\n",
                            " [0.002966466825455427, 0.009871413931250572, 0.987162172794342],\n",
                            " [0.27465975284576416, 0.007542209234088659, 0.7177980542182922],\n",
                            " [0.08576420694589615, 0.1449597030878067, 0.7692760825157166],\n",
                            " [0.01940387673676014, 0.6950330138206482, 0.28556308150291443],\n",
                            " [0.0009522726759314537, 0.0044801486656069756, 0.9945676326751709],\n",
                            " [0.06077937036752701, 0.012589923106133938, 0.9266306757926941],\n",
                            " [0.1336946338415146, 0.18855349719524384, 0.6777518391609192],\n",
                            " [0.24393828213214874, 0.22495168447494507, 0.5311100482940674],\n",
                            " [0.21549579501152039, 0.03205639868974686, 0.7524477243423462],\n",
                            " [0.0722116008400917, 0.0573013611137867, 0.8704869747161865],\n",
                            " [0.5986287593841553, 0.3294980823993683, 0.07187313586473465],\n",
                            " [0.24529285728931427, 0.12769320607185364, 0.6270138621330261],\n",
                            " [0.06304371356964111, 0.05138632282614708, 0.8855699896812439],\n",
                            " [0.8251732587814331, 0.11435920745134354, 0.06046759709715843],\n",
                            " [0.0801578015089035, 0.1161072701215744, 0.8037349581718445],\n",
                            " [0.34454643726348877, 0.4468076825141907, 0.20864588022232056],\n",
                            " [0.01378400158137083, 0.16309480369091034, 0.8231212496757507],\n",
                            " [0.0019177511567249894, 0.0708027333021164, 0.9272794723510742],\n",
                            " [0.05991852283477783, 0.051605235785245895, 0.8884762525558472],\n",
                            " [0.2043609321117401, 0.019129570573568344, 0.7765095829963684],\n",
                            " [0.04292672872543335, 0.8117608428001404, 0.14531248807907104],\n",
                            " [0.08018969744443893, 0.7965009808540344, 0.12330932915210724],\n",
                            " [0.6658003926277161, 0.13138490915298462, 0.20281466841697693],\n",
                            " [0.0005650031962431967, 0.17760038375854492, 0.8218346238136292],\n",
                            " [0.4451362192630768, 0.050999898463487625, 0.5038638710975647],\n",
                            " [0.4089422821998596, 0.15030741691589355, 0.44075027108192444],\n",
                            " [0.8152984976768494, 0.058791227638721466, 0.12591029703617096],\n",
                            " [0.07045142352581024, 0.34306591749191284, 0.5864827036857605],\n",
                            " [0.22975929081439972, 0.017897652462124825, 0.7523429989814758],\n",
                            " [0.27971234917640686, 0.4695410430431366, 0.25074663758277893],\n",
                            " [0.17321927845478058, 0.1696740835905075, 0.6571066975593567],\n",
                            " [0.17124754190444946, 0.04481196403503418, 0.7839404344558716],\n",
                            " [0.20629210770130157, 0.0055162664502859116, 0.7881916165351868],\n",
                            " [0.04681778326630592, 0.07111970335245132, 0.882062554359436],\n",
                            " [0.34274157881736755, 0.3905476927757263, 0.2667107880115509],\n",
                            " [0.014147775247693062, 0.08008930087089539, 0.9057629108428955],\n",
                            " [0.0011617573909461498, 0.6318658590316772, 0.3669724762439728],\n",
                            " [0.325618177652359, 0.09320243448019028, 0.5811793804168701],\n",
                            " [0.10582989454269409, 0.0495372973382473, 0.8446328639984131],\n",
                            " [0.00453914375975728, 0.010747759602963924, 0.984713077545166],\n",
                            " [0.44533050060272217, 0.4667135775089264, 0.08795595914125443],\n",
                            " [0.1093369871377945, 0.5727240443229675, 0.3179389238357544],\n",
                            " [0.198564812541008, 0.4332658648490906, 0.36816924810409546],\n",
                            " [0.20658141374588013, 0.023619696497917175, 0.7697989344596863],\n",
                            " [0.11788898706436157, 0.024466950446367264, 0.8576440811157227],\n",
                            " [0.03520824760198593, 0.08791055530309677, 0.8768812417984009],\n",
                            " [0.03793348744511604, 0.33721923828125, 0.6248472929000854],\n",
                            " [0.258835107088089, 0.031146971508860588, 0.71001797914505],\n",
                            " [0.10392406582832336, 0.5593255758285522, 0.336750328540802],\n",
                            " [0.3554428815841675, 0.2825467884540558, 0.3620103597640991],\n",
                            " [0.15113186836242676, 0.02248380333185196, 0.8263843059539795],\n",
                            " [0.10409212857484818, 0.1443948745727539, 0.7515129446983337],\n",
                            " [0.008362599648535252, 0.8014295697212219, 0.1902078539133072],\n",
                            " [0.03429390490055084, 0.2781764268875122, 0.6875297427177429],\n",
                            " [0.05801329016685486, 0.2023717314004898, 0.7396149635314941],\n",
                            " [0.0752493366599083, 0.1427830159664154, 0.7819676399230957],\n",
                            " [0.0006090793758630753, 0.002944994019344449, 0.9964459538459778],\n",
                            " [0.14018535614013672, 0.22709889709949493, 0.6327158212661743],\n",
                            " [0.1521734893321991, 0.03430987149477005, 0.8135166764259338],\n",
                            " [0.05892322584986687, 0.5522187948226929, 0.3888579308986664],\n",
                            " [0.06372107565402985, 0.028811531141400337, 0.9074674248695374],\n",
                            " [0.49531546235084534, 0.01957101561129093, 0.4851135313510895],\n",
                            " [0.6844823956489563, 0.019175127148628235, 0.29634249210357666],\n",
                            " [0.03583291172981262, 0.14343081414699554, 0.820736289024353],\n",
                            " [0.003008119994774461, 0.002365343039855361, 0.9946265816688538],\n",
                            " [0.17450717091560364, 0.2727472484111786, 0.5527456402778625],\n",
                            " [0.11311940848827362, 0.05343092978000641, 0.8334497213363647],\n",
                            " [0.2837459146976471, 0.46397465467453003, 0.2522793412208557],\n",
                            " [0.00041564463754184544, 0.9752724766731262, 0.024311864748597145],\n",
                            " [0.004117521457374096, 0.006144202314317226, 0.9897382855415344],\n",
                            " [0.031072061508893967, 0.805570662021637, 0.16335730254650116],\n",
                            " [0.0010879861656576395, 0.03835578262805939, 0.9605562686920166],\n",
                            " [0.062469854950904846, 0.4119357466697693, 0.5255943536758423],\n",
                            " [0.03686530888080597, 0.09493150562047958, 0.8682032227516174],\n",
                            " [0.5236145257949829, 0.20667068660259247, 0.2697148621082306],\n",
                            " [0.0002907055022660643, 0.0004317288112360984, 0.9992775321006775],\n",
                            " [0.006501295603811741, 0.0034358971752226353, 0.9900627732276917],\n",
                            " [0.8674867153167725, 0.007258969359099865, 0.125254288315773],\n",
                            " [0.28254783153533936, 0.14996153116226196, 0.5674906373023987],\n",
                            " [0.3334977626800537, 0.16861477494239807, 0.4978874623775482],\n",
                            " [0.002984261605888605, 0.0009389155311509967, 0.996076762676239],\n",
                            " [0.17927221953868866, 0.24870847165584564, 0.5720193386077881],\n",
                            " [0.7735806703567505, 0.017626000568270683, 0.20879338681697845],\n",
                            " [0.01072452962398529, 0.9214732646942139, 0.06780220568180084],\n",
                            " [0.009552574716508389, 0.9697928428649902, 0.02065453492105007],\n",
                            " [0.07289478927850723, 0.012698696926236153, 0.9144064784049988],\n",
                            " [0.001311004627496004, 0.9217110872268677, 0.07697781175374985],\n",
                            " [0.02104799821972847, 0.8409963250160217, 0.13795563578605652],\n",
                            " [0.2521907389163971, 0.12868866324424744, 0.6191205978393555],\n",
                            " [0.007917028851807117, 0.05254245921969414, 0.939540445804596],\n",
                            " [0.35629019141197205, 0.22733211517333984, 0.4163776934146881],\n",
                            " [0.02469514310359955, 0.010015590116381645, 0.965289294719696],\n",
                            " [0.26713791489601135, 0.03124849684536457, 0.7016136050224304],\n",
                            " [0.006532676983624697, 0.10798632353544235, 0.8854809999465942],\n",
                            " [0.06706145405769348, 0.006866517476737499, 0.9260720610618591],\n",
                            " [0.7635030746459961, 0.016841867938637733, 0.2196550816297531],\n",
                            " [0.08988544344902039, 0.1942581683397293, 0.7158563733100891],\n",
                            " [0.002754672197625041, 0.05551752820611, 0.9417278170585632],\n",
                            " [0.40459537506103516, 0.2059919387102127, 0.38941267132759094],\n",
                            " [0.044667039066553116, 0.0011554930824786425, 0.9541774392127991],\n",
                            " [0.13255788385868073, 0.28680071234703064, 0.5806413888931274],\n",
                            " [0.9693834185600281, 0.0011922293342649937, 0.02942439541220665],\n",
                            " [0.04134468361735344, 0.08607736229896545, 0.8725779056549072],\n",
                            " [0.9051986336708069, 0.019365819171071053, 0.07543553411960602],\n",
                            " [0.00915741827338934, 0.9413843154907227, 0.04945827275514603],\n",
                            " [0.011136789806187153, 0.22278596460819244, 0.7660772800445557],\n",
                            " [0.03247222676873207, 0.2535095810890198, 0.7140181660652161],\n",
                            " [0.6569754481315613, 0.038583140820264816, 0.3044414222240448],\n",
                            " [0.1201363280415535, 0.17484687268733978, 0.7050167918205261],\n",
                            " [0.1542888730764389, 0.09360257536172867, 0.7521085143089294],\n",
                            " [0.07348410785198212, 0.26382654905319214, 0.6626893281936646],\n",
                            " [0.3010842204093933, 0.6212192177772522, 0.07769664376974106],\n",
                            " [0.30326759815216064, 0.013702144846320152, 0.6830302476882935],\n",
                            " [0.006484166719019413, 0.17264342308044434, 0.8208723664283752],\n",
                            " [0.07581736892461777, 0.4533219635486603, 0.47086063027381897],\n",
                            " [0.015474346466362476, 0.250955194234848, 0.7335704565048218],\n",
                            " [0.10983043909072876, 0.4274192750453949, 0.4627501964569092],\n",
                            " [0.36379215121269226, 0.07618670165538788, 0.5600212216377258],\n",
                            " [0.059797607362270355, 0.12039502710103989, 0.8198073506355286],\n",
                            " [0.05712129920721054, 0.13166752457618713, 0.8112111687660217],\n",
                            " [0.3279496133327484, 0.04280329868197441, 0.6292470097541809],\n",
                            " [0.23909136652946472, 0.21983850002288818, 0.5410701632499695],\n",
                            " [0.0015227199764922261, 0.2225099802017212, 0.7759672403335571],\n",
                            " [0.23899057507514954, 0.21589404344558716, 0.5451153516769409],\n",
                            " [0.00048816914204508066, 0.8025298714637756, 0.19698193669319153],\n",
                            " [0.2663019597530365, 0.5938276052474976, 0.13987043499946594],\n",
                            " [0.3119521737098694, 0.017478032037615776, 0.6705697774887085],\n",
                            " [0.652755618095398, 0.16443996131420135, 0.18280437588691711],\n",
                            " [0.8603448271751404, 0.020123180001974106, 0.11953199654817581],\n",
                            " [0.01922472193837166, 0.18430419266223907, 0.796471118927002],\n",
                            " [0.07159321010112762, 0.08167823404073715, 0.846728503704071],\n",
                            " [0.11236967891454697, 0.1710006296634674, 0.716629683971405],\n",
                            " [0.011341029778122902, 0.0037301115226000547, 0.9849289059638977],\n",
                            " [0.13457483053207397, 0.01048995926976204, 0.8549352288246155],\n",
                            " [0.48580092191696167, 0.03295901417732239, 0.4812401831150055],\n",
                            " [0.04468430206179619, 0.8073010444641113, 0.14801467955112457],\n",
                            " [0.35527628660202026, 0.16716060042381287, 0.47756311297416687],\n",
                            " [0.015381960198283195, 0.03979925811290741, 0.9448188543319702],\n",
                            " [0.003246552310883999, 0.004601772408932447, 0.9921517372131348],\n",
                            " [0.036455657333135605, 0.27610042691230774, 0.6874438524246216],\n",
                            " [0.03033813089132309, 0.8433936238288879, 0.12626823782920837],\n",
                            " [0.01840599998831749, 0.027609387412667274, 0.9539846181869507],\n",
                            " [0.04257287085056305, 0.3437768220901489, 0.6136503219604492],\n",
                            " [0.1792343258857727, 0.4253668189048767, 0.3953988552093506],\n",
                            " [0.2970833480358124, 0.23102140426635742, 0.471895307302475],\n",
                            " [0.006653198041021824, 0.015124978497624397, 0.9782217741012573],\n",
                            " [0.19513627886772156, 0.012333524413406849, 0.7925301790237427],\n",
                            " [0.021733930334448814, 0.16913369297981262, 0.8091323971748352],\n",
                            " [0.04239192605018616, 0.05550432950258255, 0.9021037817001343],\n",
                            " [0.3010239601135254, 0.2499709278345108, 0.4490050971508026],\n",
                            " [0.2580470144748688, 0.4820812940597534, 0.2598716616630554],\n",
                            " [0.8861234188079834, 0.060601022094488144, 0.053275514394044876],\n",
                            " [0.41019704937934875, 0.048816438764333725, 0.5409865379333496],\n",
                            " [0.4305463433265686, 0.05691362917423248, 0.5125400424003601],\n",
                            " [0.3482949733734131, 0.15595263242721558, 0.49575236439704895],\n",
                            " [0.3247808814048767, 0.025809481739997864, 0.6494096517562866],\n",
                            " [0.043699443340301514, 0.18423143029212952, 0.7720690965652466],\n",
                            " [0.05313389375805855, 0.0008377561462111771, 0.9460282921791077],\n",
                            " [0.3250184953212738, 0.2811431884765625, 0.3938383460044861],\n",
                            " [0.044026173651218414, 0.01528558786958456, 0.9406882524490356],\n",
                            " [0.02000298723578453, 0.21643994748592377, 0.7635570764541626],\n",
                            " [0.12163645029067993, 0.13290874660015106, 0.7454548478126526],\n",
                            " [0.07885092496871948, 0.0666511058807373, 0.8544979691505432],\n",
                            " [0.05407274514436722, 0.016763441264629364, 0.9291638135910034],\n",
                            " [0.04777087643742561, 0.7801743745803833, 0.1720547378063202],\n",
                            " [0.013523218221962452, 0.03619828447699547, 0.9502784609794617],\n",
                            " [0.15730397403240204, 0.738638699054718, 0.10405733436346054],\n",
                            " [0.18029089272022247, 0.44242340326309204, 0.3772856593132019],\n",
                            " [0.04172295704483986, 0.19392752647399902, 0.7643495798110962],\n",
                            " [0.003593640634790063, 0.16237637400627136, 0.8340299129486084],\n",
                            " [0.1288045197725296, 0.0850609764456749, 0.7861344218254089],\n",
                            " [0.8516373038291931, 0.015734141692519188, 0.13262854516506195],\n",
                            " [0.3619078993797302, 0.4179950952529907, 0.22009703516960144],\n",
                            " [0.03739297762513161, 0.05897070840001106, 0.9036363363265991],\n",
                            " [0.02786821313202381, 0.057619813829660416, 0.9145119786262512],\n",
                            " [0.0017449953593313694, 0.009498768486082554, 0.9887562394142151],\n",
                            " [0.0865829586982727, 0.25377020239830017, 0.65964674949646],\n",
                            " [0.002765452489256859, 0.03598266839981079, 0.9612519145011902],\n",
                            " [0.8378115892410278, 0.005840556230396032, 0.1563478261232376],\n",
                            " [0.019177595153450966, 0.009954610839486122, 0.9708677530288696],\n",
                            " [0.03830771520733833, 0.28941360116004944, 0.6722787022590637],\n",
                            " [0.04469592869281769, 0.45251089334487915, 0.5027931332588196],\n",
                            " [0.275192528963089, 0.1844778209924698, 0.5403296947479248],\n",
                            " [0.5776402354240417, 0.019112184643745422, 0.4032476246356964],\n",
                            " [0.23609472811222076, 0.29926276206970215, 0.4646424949169159],\n",
                            " [0.0491018146276474, 0.11301877349615097, 0.8378794193267822],\n",
                            " [0.15208518505096436, 0.011914687231183052, 0.8360000848770142],\n",
                            " [0.008815168403089046, 0.009677981957793236, 0.9815068244934082],\n",
                            " [0.20989587903022766, 0.24042661488056183, 0.5496774911880493],\n",
                            " [0.004735185299068689, 0.01951345056295395, 0.9757513999938965],\n",
                            " [0.21564453840255737, 0.3095151484012604, 0.47484031319618225],\n",
                            " [0.017340831458568573, 0.7492784857749939, 0.23338064551353455],\n",
                            " [0.45337623357772827, 0.3960237503051758, 0.15060001611709595],\n",
                            " [0.8450211882591248, 0.12241651862859726, 0.032562270760536194],\n",
                            " [0.0025440710596740246, 0.07516904920339584, 0.9222869277000427],\n",
                            " [0.2367437183856964, 0.04662107303738594, 0.7166352272033691],\n",
                            " [0.018841614946722984, 0.1614036113023758, 0.8197547793388367],\n",
                            " [0.668867290019989, 0.10494959354400635, 0.22618305683135986],\n",
                            " [0.009546910412609577, 0.3193216323852539, 0.6711314916610718],\n",
                            " [0.3281960189342499, 0.017871566116809845, 0.6539323925971985],\n",
                            " [0.0019484234508126974, 0.014603905379772186, 0.9834476709365845],\n",
                            " [0.05431170016527176, 0.04041750356554985, 0.9052708148956299],\n",
                            " [0.017994796857237816, 0.026296382769942284, 0.9557088017463684],\n",
                            " [0.055366940796375275, 0.046496015042066574, 0.8981370329856873],\n",
                            " [0.1499481052160263, 0.00782166887074709, 0.8422302007675171],\n",
                            " [0.02906995825469494, 0.6685561537742615, 0.30237385630607605],\n",
                            " [0.1360173374414444, 0.0033904798328876495, 0.8605921268463135],\n",
                            " [0.004908205941319466, 0.003152955323457718, 0.9919388890266418],\n",
                            " [0.18854469060897827, 0.11760076880455017, 0.6938545107841492],\n",
                            " [0.6262784004211426, 0.1071247011423111, 0.2665969133377075],\n",
                            " [0.48675933480262756, 0.4858361482620239, 0.027404502034187317],\n",
                            " [0.3845033645629883, 0.22028471529483795, 0.39521193504333496],\n",
                            " [0.2342018336057663, 0.029374057427048683, 0.7364240884780884],\n",
                            " [0.06337711215019226, 0.0375683419406414, 0.8990545868873596],\n",
                            " [0.0394759476184845, 0.6812368631362915, 0.2792871296405792],\n",
                            " [0.10875974595546722, 0.0013165640411898494, 0.8899237513542175],\n",
                            " [0.038854289799928665, 0.06522271782159805, 0.8959230184555054],\n",
                            " [0.0429973378777504, 0.02425183542072773, 0.9327508211135864],\n",
                            " [0.024967022240161896, 0.15791365504264832, 0.8171193599700928],\n",
                            " [0.05083276703953743, 0.029206695035099983, 0.9199605584144592],\n",
                            " [0.08114730566740036, 0.019917741417884827, 0.8989350199699402],\n",
                            " [0.23369306325912476, 0.033540189266204834, 0.7327667474746704],\n",
                            " [0.12328241765499115, 0.22713005542755127, 0.6495875716209412],\n",
                            " [0.05558255314826965, 0.0015371808549389243, 0.9428802728652954],\n",
                            " [0.015582473948597908, 0.5778577327728271, 0.4065597951412201],\n",
                            " [0.00100543478038162, 0.005752182565629482, 0.9932423233985901],\n",
                            " [0.001750537077896297, 0.045449040830135345, 0.9528003931045532],\n",
                            " [0.02221205085515976, 0.018215013667941093, 0.959572970867157],\n",
                            " [0.07098587602376938, 0.23254793882369995, 0.6964662075042725],\n",
                            " [0.30845969915390015, 0.2287226915359497, 0.4628176689147949],\n",
                            " [0.0033787412103265524, 0.0015760035021230578, 0.9950453042984009],\n",
                            " [0.3444848358631134, 0.2953730821609497, 0.3601420819759369],\n",
                            " [0.18124954402446747, 0.0789819061756134, 0.7397685050964355],\n",
                            " [0.16336652636528015, 0.10322847217321396, 0.7334049344062805],\n",
                            " [0.044800858944654465, 0.0490260012447834, 0.9061731696128845],\n",
                            " [0.012649367563426495, 0.06268468499183655, 0.9246659278869629],\n",
                            " [0.030809057876467705, 0.009548867121338844, 0.9596421122550964],\n",
                            " [0.27622663974761963, 0.08934908360242844, 0.6344242691993713],\n",
                            " [0.6496162414550781, 0.023491397500038147, 0.32689234614372253],\n",
                            " [0.5689892768859863, 0.2068546712398529, 0.22415609657764435],\n",
                            " [0.013052966445684433, 0.1967162936925888, 0.7902308106422424],\n",
                            " [0.14707805216312408, 0.11449773609638214, 0.7384241819381714],\n",
                            " [0.5369618535041809, 0.19459505379199982, 0.2684430778026581],\n",
                            " [0.000824093644041568, 0.20074376463890076, 0.7984321117401123],\n",
                            " [0.2504846751689911, 0.21255601942539215, 0.5369592905044556],\n",
                            " [0.9072283506393433, 0.04364730417728424, 0.0491243451833725],\n",
                            " [0.006758570671081543, 0.005053316242992878, 0.9881880879402161],\n",
                            " [0.31844866275787354, 0.11458146572113037, 0.5669698715209961],\n",
                            " [0.051610276103019714, 0.015118097886443138, 0.933271586894989],\n",
                            " [0.35569411516189575, 0.27098941802978516, 0.3733164668083191],\n",
                            " [0.512235164642334, 0.3377143442630768, 0.15005044639110565],\n",
                            " [0.0010564952390268445, 0.7769160270690918, 0.2220274955034256],\n",
                            " [0.0004186071746516973, 0.1348455250263214, 0.8647358417510986],\n",
                            " [0.07474411278963089, 0.12316813319921494, 0.8020877242088318],\n",
                            " [0.31319183111190796, 0.08702882379293442, 0.5997793078422546],\n",
                            " [0.0009842240251600742, 0.07620001584291458, 0.92281574010849],\n",
                            " [0.1946643441915512, 0.010975124314427376, 0.7943605780601501],\n",
                            " [0.05028647929430008, 0.46620678901672363, 0.4835067391395569],\n",
                            " [0.30042240023612976, 0.0587182454764843, 0.6408593654632568],\n",
                            " [0.18247632682323456, 0.12346988171339035, 0.6940537691116333],\n",
                            " [0.029710087925195694, 0.17147338390350342, 0.7988165020942688],\n",
                            " [0.0824679508805275, 0.7311155796051025, 0.18641647696495056],\n",
                            " [0.2448054999113083, 0.009131897240877151, 0.7460626363754272],\n",
                            " [0.5115718841552734, 0.15233208239078522, 0.33609598875045776],\n",
                            " [0.46471861004829407, 0.017574600875377655, 0.5177066922187805],\n",
                            " [0.30166661739349365, 0.03237157687544823, 0.6659618020057678],\n",
                            " [0.0757824257016182, 0.10823751240968704, 0.815980076789856],\n",
                            " [0.1513604372739792, 0.7465006113052368, 0.10213892161846161],\n",
                            " [0.08909139782190323, 0.03257230669260025, 0.8783363103866577],\n",
                            " [0.2578374147415161, 0.23910439014434814, 0.5030581951141357],\n",
                            " [0.14278975129127502, 0.3023258149623871, 0.5548844933509827],\n",
                            " [0.0020694462582468987, 0.028802115470170975, 0.969128429889679],\n",
                            " [0.11866951733827591, 0.06579144299030304, 0.8155390620231628],\n",
                            " [0.3815164566040039, 0.46993234753608704, 0.14855127036571503],\n",
                            " [0.04665160924196243, 0.11416532844305038, 0.8391830325126648],\n",
                            " [0.2269381433725357, 0.047789283096790314, 0.725272536277771],\n",
                            " [0.002129481639713049, 0.005594226997345686, 0.9922763705253601],\n",
                            " [0.18758554756641388, 0.019406888633966446, 0.793007493019104],\n",
                            " [0.8319758772850037, 0.022356905043125153, 0.14566725492477417],\n",
                            " [0.06260715425014496, 0.015878336504101753, 0.9215144515037537],\n",
                            " [0.05461208149790764, 0.6785851716995239, 0.26680269837379456],\n",
                            " [0.9294718503952026, 0.02950834296643734, 0.041019752621650696],\n",
                            " [0.04911506175994873, 0.004692578222602606, 0.9461923241615295],\n",
                            " [0.2587672472000122, 0.3173636496067047, 0.4238691031932831],\n",
                            " [0.11301334202289581, 0.010569052770733833, 0.8764175772666931],\n",
                            " [0.006060859654098749, 0.03874916210770607, 0.9551899433135986],\n",
                            " [0.617996096611023, 0.16951805353164673, 0.21248586475849152],\n",
                            " [0.019912514835596085, 0.0832962617278099, 0.8967911601066589],\n",
                            " [0.040610846132040024, 0.10401942580938339, 0.8553698062896729],\n",
                            " [0.0002110268105752766, 0.03831985592842102, 0.9614690542221069],\n",
                            " [0.4408910870552063, 0.03863944113254547, 0.5204694271087646],\n",
                            " [0.336666077375412, 0.08832923322916031, 0.5750046968460083],\n",
                            " [0.11149396002292633, 0.5054624676704407, 0.3830436170101166],\n",
                            " [0.0025412363465875387, 0.4584868848323822, 0.5389719009399414],\n",
                            " [0.19259221851825714, 0.2120586335659027, 0.595349133014679],\n",
                            " [0.016508378088474274, 0.058531828224658966, 0.9249597787857056],\n",
                            " [0.5140044689178467, 0.28668105602264404, 0.19931451976299286],\n",
                            " [0.025035029277205467, 0.6374101638793945, 0.33755481243133545],\n",
                            " [0.037734419107437134, 0.2104283571243286, 0.7518371939659119],\n",
                            " [0.1973426192998886, 0.12525638937950134, 0.6774010062217712],\n",
                            " [0.11909466236829758, 0.014410371892154217, 0.8664949536323547],\n",
                            " [0.401194304227829, 0.017275618389248848, 0.5815300345420837],\n",
                            " [0.20007818937301636, 0.43780773878097534, 0.3621140718460083],\n",
                            " [0.02207699976861477, 0.9431521892547607, 0.03477072715759277],\n",
                            " [0.01079358160495758, 0.4645615816116333, 0.5246449112892151],\n",
                            " [0.5964731574058533, 0.37012723088264465, 0.03339966759085655],\n",
                            " [0.07530936598777771, 0.6656821370124817, 0.259008526802063],\n",
                            " [0.4375987946987152, 0.055850107222795486, 0.5065510272979736],\n",
                            " [0.054535385221242905, 0.18488448858261108, 0.7605801224708557],\n",
                            " [0.022195758298039436, 0.0371197834610939, 0.94068443775177],\n",
                            " [0.10051044076681137, 0.0035445638932287693, 0.8959450721740723],\n",
                            " [0.26934993267059326, 0.5779283046722412, 0.15272177755832672],\n",
                            " [0.021736539900302887, 0.021841952577233315, 0.9564215540885925],\n",
                            " [0.44668421149253845, 0.15632285177707672, 0.3969929814338684],\n",
                            " [0.01945706084370613, 0.048729341477155685, 0.9318135976791382],\n",
                            " [0.0077888923697173595, 0.5190169215202332, 0.4731941819190979],\n",
                            " [0.05062910541892052, 0.0657467320561409, 0.8836241364479065],\n",
                            " [0.01559574156999588, 0.06453792750835419, 0.9198663234710693],\n",
                            " [0.11842694133520126, 0.1135391891002655, 0.7680338621139526],\n",
                            " [0.6081016063690186, 0.0824512168765068, 0.30944713950157166],\n",
                            " [0.5739216208457947, 0.043958406895399094, 0.3821199834346771],\n",
                            " [0.0458795540034771, 0.11317533254623413, 0.8409451842308044],\n",
                            " [0.02765139751136303, 0.1930384784936905, 0.7793101072311401],\n",
                            " [0.03123760223388672, 0.05087081715464592, 0.9178915619850159],\n",
                            " [0.0976700559258461, 0.05048731341958046, 0.8518426418304443],\n",
                            " [0.10634683072566986, 0.08399923890829086, 0.8096539974212646],\n",
                            " [0.6620855331420898, 0.08724019676446915, 0.25067421793937683],\n",
                            " [0.04575579613447189, 0.04433939978480339, 0.9099047780036926],\n",
                            " [0.028937628492712975, 0.5653680562973022, 0.40569430589675903],\n",
                            " [0.16019660234451294, 0.04729156568646431, 0.7925118803977966],\n",
                            " [0.006510893814265728, 0.8332684636116028, 0.16022063791751862],\n",
                            " [0.004187356680631638, 0.8084839582443237, 0.18732869625091553],\n",
                            " [0.719250500202179, 0.09276112169027328, 0.18798832595348358],\n",
                            " [0.17780083417892456, 0.04438045993447304, 0.7778186798095703],\n",
                            " [0.004469433333724737, 0.1960170418024063, 0.7995135188102722],\n",
                            " [0.07904786616563797, 0.14215531945228577, 0.7787967920303345],\n",
                            " [0.33543458580970764, 0.1091989278793335, 0.5553664565086365],\n",
                            " [0.044648587703704834, 0.025211937725543976, 0.9301394820213318]]"
                        ]
                    },
                    "metadata": {},
                    "execution_count": 17
                }
            ],
            "metadata": {}
        },
        {
            "cell_type": "code",
            "execution_count": null,
            "source": [
                "correall=[0]*HBN\r\n",
                "corre0=0\r\n",
                "corre1=0\r\n",
                "corre2=0\r\n",
                "# corre3=0\r\n",
                "\r\n",
                "motoall=[0]*HBN\r\n",
                "moto0=0\r\n",
                "moto1=0\r\n",
                "moto2=0\r\n",
                "# moto3=0\r\n",
                "for i in range(len(aan)):\r\n",
                "    motoall[aan[i].index(max(aan[i]))]+=1\r\n",
                "    for j in range(HBN):\r\n",
                "\r\n",
                "        # print(aan[i].index(max(aan[i])),j)\r\n",
                "\r\n",
                "        # if aan[i].index(max(aan[i]))==j:\r\n",
                "\r\n",
                "            # print(\"#\")\r\n",
                "        \r\n",
                "        if (aan[i].index(max(aan[i])) == bbn[i].index(1)) and (bbn[i].index(1)==j):\r\n",
                "            correall[j]+=1\r\n",
                "\r\n",
                "        \r\n",
                "\r\n",
                "    # if aan[i].index(max(aan[i]))==0:\r\n",
                "    #     moto0+=1\r\n",
                "    # elif aan[i].index(max(aan[i]))==1:\r\n",
                "    #     moto1+=1\r\n",
                "    # elif aan[i].index(max(aan[i]))==2:\r\n",
                "    #     moto2+=1\r\n",
                "    # elif aan[i].index(max(aan[i]))==3:\r\n",
                "    #     moto3+=1\r\n",
                "\r\n",
                "\r\n",
                "    \r\n",
                "    # if (aan[i].index(max(aan[i])) == bbn[i].index(1)) and (bbn[i].index(1)==0):\r\n",
                "    #     corre0+=1\r\n",
                "    # elif (aan[i].index(max(aan[i])) == bbn[i].index(1)) and (bbn[i].index(1)==1):\r\n",
                "    #     corre1+=1\r\n",
                "    # elif (aan[i].index(max(aan[i])) == bbn[i].index(1)) and (bbn[i].index(1)==2):\r\n",
                "    #     corre2+=1\r\n",
                "    # elif (aan[i].index(max(aan[i])) == bbn[i].index(1)) and (bbn[i].index(1)==3):\r\n",
                "    #     corre3+=1\r\n",
                "\r\n",
                "for i in range(HBN):\r\n",
                "    print(str(i)+\"番目\"+str(correall[i]/motoall[i]),str(correall[i]),str(motoall[i]))\r\n",
                "# print(corre,corre/len(X_test))\r\n",
                "# print(\"0番目\"+str(corre0/moto0))\r\n",
                "# print(\"1番目\"+str(corre1/moto1))\r\n",
                "# print(\"2番目\"+str(corre2/moto2))\r\n",
                "# print(\"3番目\"+str(corre3/moto3))"
            ],
            "outputs": [
                {
                    "output_type": "stream",
                    "name": "stdout",
                    "text": [
                        "0番目0.32608695652173914 15 46\n",
                        "1番目0.22413793103448276 13 58\n",
                        "2番目0.5 133 266\n"
                    ]
                }
            ],
            "metadata": {}
        },
        {
            "cell_type": "code",
            "execution_count": null,
            "source": [
                "corre=0\r\n",
                "aan=cnnX_test.tolist()\r\n",
                "bbn=y_test.tolist()\r\n",
                "for i in range(len(X_test)):\r\n",
                "    \r\n",
                "    aan[i].index(max(aan[i]))\r\n",
                "    \r\n",
                "    if aan[i].index(max(aan[i])) == bbn[i].index(1):\r\n",
                "        corre+=1\r\n",
                "        # print(i)\r\n",
                "\r\n",
                "print(corre,corre/len(X_test))"
            ],
            "outputs": [
                {
                    "output_type": "stream",
                    "name": "stdout",
                    "text": [
                        "161 0.43513513513513513\n"
                    ]
                }
            ],
            "metadata": {}
        },
        {
            "cell_type": "code",
            "execution_count": null,
            "source": [
                "cnnX_test=cnn.predict(X_train)\r\n",
                "corre=0\r\n",
                "aan=cnnX_test.tolist()\r\n",
                "bbn=y_train.tolist()\r\n",
                "for i in range(len(X_train)):\r\n",
                "    \r\n",
                "    aan[i].index(max(aan[i]))\r\n",
                "    \r\n",
                "    if aan[i].index(max(aan[i])) == bbn[i].index(1):\r\n",
                "        corre+=1\r\n",
                "        # print(i)\r\n",
                "\r\n",
                "print(corre,corre/len(X_train))"
            ],
            "outputs": [
                {
                    "output_type": "stream",
                    "name": "stdout",
                    "text": [
                        "1398 0.9452332657200812\n"
                    ]
                }
            ],
            "metadata": {}
        },
        {
            "cell_type": "code",
            "execution_count": null,
            "source": [],
            "outputs": [],
            "metadata": {}
        },
        {
            "cell_type": "code",
            "execution_count": null,
            "source": [],
            "outputs": [],
            "metadata": {}
        },
        {
            "cell_type": "code",
            "execution_count": null,
            "source": [],
            "outputs": [],
            "metadata": {}
        },
        {
            "cell_type": "code",
            "execution_count": null,
            "source": [],
            "outputs": [],
            "metadata": {}
        }
    ],
    "metadata": {
        "orig_nbformat": 4,
        "language_info": {
            "name": "python",
            "version": "3.6.8",
            "mimetype": "text/x-python",
            "codemirror_mode": {
                "name": "ipython",
                "version": 3
            },
            "pygments_lexer": "ipython3",
            "nbconvert_exporter": "python",
            "file_extension": ".py"
        },
        "kernelspec": {
            "name": "python3",
            "display_name": "Python 3.6.8 64-bit"
        },
        "interpreter": {
            "hash": "15192e6a106c457bde6b4fa1e4287e117f0b6c6c4f5aeb3d9178d6f63bd8abaf"
        }
    },
    "nbformat": 4,
    "nbformat_minor": 2
}