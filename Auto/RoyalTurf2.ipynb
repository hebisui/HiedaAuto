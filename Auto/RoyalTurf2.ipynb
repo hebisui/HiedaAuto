{
 "cells": [
  {
   "cell_type": "code",
   "execution_count": 1,
   "metadata": {},
   "outputs": [],
   "source": [
    "#ボードゲーム「ロイヤルターフ」の解析です。しかし、挙動はランダムであり、人間の動きを全く考慮できません。あくまで参考値\n",
    "import random\r\n",
    "import numpy as np\r\n",
    "import matplotlib.pyplot as plt"
   ]
  },
  {
   "cell_type": "code",
   "execution_count": 2,
   "metadata": {},
   "outputs": [],
   "source": [
    "class Horse:\r\n",
    "    coloredHouse={  \"orange\"    :[[ 7, 1, 1, 7],[ 7, 3, 3, 3],[ 7, 5, 3, 1]],\r\n",
    "                    \"green\"     :[[ 6, 1,10, 1],[ 6, 6, 4, 2],[ 6, 2, 2, 8]],\r\n",
    "                    \"yellow\"    :[[ 5, 8, 1, 6],[ 5, 1, 1,13],[ 5, 6, 7, 2]],\r\n",
    "                    \"blue\"      :[[ 4, 7, 3, 8],[ 4,10, 7, 1],[ 4, 1,13, 4]],\r\n",
    "                    \"red\"       :[[ 3, 1, 5,15],[ 3,10,10, 1],[ 3, 9, 5, 7]],\r\n",
    "                    \"black\"     :[[ 2, 9, 8, 7],[ 2, 5,11, 8],[ 2,14, 1, 9]],\r\n",
    "                    \"white\"     :[[ 1, 8, 9,10],[ 1,15, 8, 4],[ 1, 3,12,12]]}\r\n",
    "\r\n",
    "    allHorse=[ [[ 7, 1, 1, 7],[ 7, 3, 3, 3],[ 7, 5, 3, 1]],\r\n",
    "                    [[ 6, 1,10, 1],[ 6, 6, 4, 2],[ 6, 2, 2, 8]],\r\n",
    "                    [[ 5, 8, 1, 6],[ 5, 1, 1,13],[ 5, 6, 7, 2]],\r\n",
    "                    [[ 4, 7, 3, 8],[ 4,10, 7, 1],[ 4, 1,13, 4]],\r\n",
    "                    [[ 3, 1, 5,15],[ 3,10,10, 1],[ 3, 9, 5, 7]],\r\n",
    "                    [[ 2, 9, 8, 7],[ 2, 5,11, 8],[ 2,14, 1, 9]],\r\n",
    "                    [[ 1, 8, 9,10],[ 1,15, 8, 4],[ 1, 3,12,12]]]\r\n",
    "\r\n",
    "    def __init__(self,color,num,startPlace):\r\n",
    "        self.color=color\r\n",
    "        self.status=True\r\n",
    "        self.place=startPlace\r\n",
    "        self.characteristicNum=num\r\n",
    "        self.characteristic=self.coloredHouse[color][self.characteristicNum]\r\n",
    "        self.goal=False\r\n",
    "        self.betting=[]\r\n",
    "        self.first18=False"
   ]
  },
  {
   "cell_type": "code",
   "execution_count": 3,
   "metadata": {},
   "outputs": [],
   "source": [
    "class Player:\r\n",
    "    def __init__(self):\r\n",
    "        self.cash=0\r\n",
    "        self.bettingList=[0,1,1,2]\r\n",
    "        self.aleadybetList=[False,False,False,False]\r\n",
    "        self.alreadyBetHorseList=[False,False,False,False,False,False,False]\r\n",
    "        self.betVal=[-1,-1,-1,-1,-1,-1,-1]\r\n",
    "\r\n",
    "    def bet(self,bettingRankList,betHorseRankList):\r\n",
    "\r\n",
    "        betting=\"\"\r\n",
    "        betHorse=\"\"\r\n",
    "        for bettingNum in self.indexRanking(bettingRankList):\r\n",
    "            if self.aleadybetList[bettingNum]==False:\r\n",
    "                betting=self.bettingList[bettingNum]\r\n",
    "                self.aleadybetList[bettingNum]=True\r\n",
    "\r\n",
    "                for betHorseNum in self.indexRanking(betHorseRankList):\r\n",
    "                    if self.alreadyBetHorseList[betHorseNum]==False:\r\n",
    "                        betHorse=betHorseNum\r\n",
    "                        self.alreadyBetHorseList[betHorseNum]=True\r\n",
    "                        break\r\n",
    "                break\r\n",
    "\r\n",
    "        self.betVal[betHorse]=betting\r\n",
    "        return betting,betHorse\r\n",
    "\r\n",
    "    def indexRanking(self,listData):\r\n",
    "        A=np.array(listData)\r\n",
    "        A=A.argsort()[::-1]\r\n",
    "        rankingData=A.tolist()\r\n",
    "        return rankingData\r\n"
   ]
  },
  {
   "cell_type": "code",
   "execution_count": 4,
   "metadata": {},
   "outputs": [],
   "source": [
    "class RoyalTurf:\r\n",
    "    colorList=[\"orange\",\"green\",\"yellow\",\"blue\",\"red\",\"black\",\"white\"]\r\n",
    "    roll=[\"horse\",\"horse\",\"horse\",\"knight\",\"carrot\",\"shoe\"]\r\n",
    "    rollToNum={\"horse\":0,\"knight\":1,\"carrot\":2,\"shoe\":3}\r\n",
    "    returnList=[[ 500, 350, 250, 200, 150],\r\n",
    "                [ 350, 250, 200, 150, 100],\r\n",
    "                [ 250, 200, 150, 100, 100],\r\n",
    "                [   0,   0,   0,   0,   0],\r\n",
    "                [   0,   0,   0,   0,   0],\r\n",
    "                [   0,   0,   0,   0,   0],\r\n",
    "                [-100,-100,-100,-100,-100]]\r\n",
    "    def __init__(self,playerNum):\r\n",
    "        # random.shuffle(self.colorList)\r\n",
    "        self.horseList=[]\r\n",
    "        for color,startPlace in zip(self.colorList,range(0,-7,-1)):\r\n",
    "            # num=random.randint(0,2)\r\n",
    "            num=0\r\n",
    "            self.horseList.append(Horse(color,num,startPlace))\r\n",
    "\r\n",
    "        self.dice=\"horse\"\r\n",
    "\r\n",
    "        self.goalNum=0\r\n",
    "        self.first18Num=0\r\n",
    "\r\n",
    "        self.playerList=[]\r\n",
    "        for i in range(playerNum):\r\n",
    "            self.playerList.append(Player())\r\n",
    "\r\n",
    "    def bet(self,playerNum,bettingRankList,betHorseRankList):\r\n",
    "        betting,betHorse=self.playerList[playerNum].bet(bettingRankList,betHorseRankList)\r\n",
    "        self.horseList[betHorse].betting.append([playerNum,betting])\r\n",
    "\r\n",
    "    def diceing(self):\r\n",
    "        self.dice=self.roll[random.randint(0,5)]\r\n",
    "        # print(self.dice)\r\n",
    "\r\n",
    "    def advanse(self,advanseRankList):\r\n",
    "        \r\n",
    "        for horseNum in self.indexRanking(advanseRankList):\r\n",
    "            #順位が上位の者から動かす\r\n",
    "            if (self.horseList[horseNum].status==True) and (self.horseList[horseNum].goal==False) and (self.goalNum<3):\r\n",
    "                breakFlag=False\r\n",
    "                move=self.horseList[horseNum].characteristic[self.rollToNum[self.dice]]\r\n",
    "                moveTo=self.horseList[horseNum].place+move  #移動先\r\n",
    "                while moveTo>self.horseList[horseNum].place: #移動先判定と補正\r\n",
    "                        \r\n",
    "                    breakFlag=True\r\n",
    "                    for horse in self.horseList:\r\n",
    "                        if moveTo==horse.place:\r\n",
    "                            moveTo-=1\r\n",
    "                            breakFlag=False\r\n",
    "                            break\r\n",
    "                    if breakFlag:\r\n",
    "                        break\r\n",
    "                self.horseList[horseNum].place=moveTo\r\n",
    "                self.horseList[horseNum].status=False\r\n",
    "\r\n",
    "                if self.horseList[horseNum].place>17 and self.first18Num<1:\r\n",
    "                    self.horseList[horseNum].first18=True\r\n",
    "                    self.first18Num+=1\r\n",
    "\r\n",
    "                if self.horseList[horseNum].place>36:\r\n",
    "                    self.horseList[horseNum].place=110-self.goalNum\r\n",
    "                    self.horseList[horseNum].goal=True\r\n",
    "                    self.goalNum+=1\r\n",
    "                break\r\n",
    "        \r\n",
    "        #すべてひっくり返ったらすべて表にする #goalしたものは無視する\r\n",
    "        flag=False\r\n",
    "        for horse in self.horseList:\r\n",
    "            if horse.goal==False:\r\n",
    "                flag=flag or horse.status\r\n",
    "        if flag==False:\r\n",
    "            for horseNum in range(7):\r\n",
    "                self.horseList[horseNum].status=True\r\n",
    "\r\n",
    "        if self.goalNum>2:\r\n",
    "            return False\r\n",
    "        return True\r\n",
    "\r\n",
    "    def ranking(self):\r\n",
    "        if self.goalNum>2:\r\n",
    "            placeList=[]\r\n",
    "            for horse in self.horseList:\r\n",
    "                placeList.append(horse.place)\r\n",
    "            placeNum={}\r\n",
    "            for horseNum,place in zip(range(7),placeList):\r\n",
    "                placeNum[place]=horseNum\r\n",
    "            horseNumList=[placeNum[place] for place in sorted(placeList)]\r\n",
    "            for horseNum,rank in zip(horseNumList,range(1,8)):\r\n",
    "                self.horseList[horseNum].goal=rank\r\n",
    "            return True\r\n",
    "        return False\r\n",
    "\r\n",
    "    def divide(self):\r\n",
    "        for horse in self.horseList:\r\n",
    "            bettingSum=0\r\n",
    "            for d in horse.betting:\r\n",
    "                bettingSum+=d[1]\r\n",
    "                \r\n",
    "            returnRatio=self.returnList[horse.goal-1][min(bettingSum,4)]\r\n",
    "            \r\n",
    "            if (horse.first18==True) and (horse.goal<4):\r\n",
    "                returnRatio+=100\r\n",
    "\r\n",
    "            for playerNum in range(len(self.playerList)):\r\n",
    "                for d in horse.betting:\r\n",
    "                    if d[0]==playerNum:\r\n",
    "                        self.playerList[playerNum].cash+=d[1]*returnRatio\r\n",
    "\r\n",
    "    def cashStatus(self):\r\n",
    "        cashList=[]\r\n",
    "        for player in self.playerList:\r\n",
    "            cashList.append(player.cash)\r\n",
    "        return cashList\r\n",
    "\r\n",
    "    def indexRanking(self,listData):\r\n",
    "        A=np.array(listData)\r\n",
    "        A=A.argsort()[::-1]\r\n",
    "        rankingData=A.tolist()\r\n",
    "        return rankingData\r\n"
   ]
  },
  {
   "cell_type": "code",
   "execution_count": 11,
   "metadata": {},
   "outputs": [
    {
     "name": "stdout",
     "output_type": "stream",
     "text": [
      "35\n",
      "109\n",
      "32\n",
      "110\n",
      "108\n",
      "34\n",
      "31\n"
     ]
    },
    {
     "data": {
      "image/png": "[encoded data removed]",
      "text/plain": [
       "<Figure size 432x288 with 1 Axes>"
      ]
     },
     "metadata": {
      "needs_background": "light"
     },
     "output_type": "display_data"
    }
   ],
   "source": [
    "#馬の動きの推移\n",
    "royalturf=RoyalTurf(3)\n",
    "\n",
    "placelist=[[],[],[],[],[],[],[]]\n",
    "for d in range(100):\n",
    "    for horse,i in zip(royalturf.horseList,range(7)):\n",
    "        placelist[i].append(horse.place)\n",
    "    royalturf.diceing()\n",
    "    advanseRankList=[]\n",
    "    for i in range(7):\n",
    "        advanseRankList.append(random.random())\n",
    "    royalturf.advanse(advanseRankList)\n",
    "\n",
    "\n",
    "for y in placelist:\n",
    "    plt.plot(range(100),y)\n",
    "    print(y[-1])"
   ]
  },
  {
   "cell_type": "code",
   "execution_count": 14,
   "metadata": {},
   "outputs": [
    {
     "name": "stdout",
     "output_type": "stream",
     "text": [
      "170.22\n",
      "165.47\n",
      "307.99\n",
      "145.45\n",
      "280.01\n"
     ]
    },
    {
     "data": {
      "image/png": "[encoded data removed]",
      "text/plain": [
       "<Figure size 432x288 with 1 Axes>"
      ]
     },
     "metadata": {
      "needs_background": "light"
     },
     "output_type": "display_data"
    }
   ],
   "source": [
    "cashList=[[],[],[],[],[],[],[]]\n",
    "\n",
    "bL=[[random.random() for i in range(4)] for _ in range(7)]\n",
    "hL=[[random.random() for i in range(7)] for _ in range(7)]\n",
    "\n",
    "for _ in range(5000):\n",
    "    royalturf=RoyalTurf(5)\n",
    "\n",
    "    #順番に賭ける\n",
    "    for i in range(4):\n",
    "        for playerNum in range(len(royalturf.playerList)):\n",
    "            # bettingRank=[random.random() for i in range(4)]#ここをRainForceが判断\n",
    "            # horseRank=[random.random() for i in range(7)]#ここをRainForceが判断\n",
    "            bettingRank=bL[playerNum]#ここをRainForceが判断\n",
    "            horseRank=hL[playerNum]#ここをRainForceが判断\n",
    "            royalturf.bet(playerNum,bettingRank,horseRank)\n",
    "\n",
    "    #ランダムに動かす\n",
    "    for _ in range(200):\n",
    "        royalturf.diceing()\n",
    "        advanseRank=[random.random() for i in range(7)]#ここをRainForceが判断\n",
    "        adFlag=royalturf.advanse(advanseRank)\n",
    "        if adFlag==False:\n",
    "            break\n",
    "\n",
    "    #順位付け\n",
    "    royalturf.ranking()\n",
    "\n",
    "    #配当金分配\n",
    "    royalturf.divide()\n",
    "\n",
    "    #配当金を表示\n",
    "    cash=royalturf.cashStatus()\n",
    "\n",
    "    for i in range(len(royalturf.playerList)):\n",
    "        cashList[i].append(royalturf.playerList[i].cash)\n",
    "\n",
    "averageList=[[],[],[],[],[],[],[]]\n",
    "for d,i in zip(cashList,range(len(cashList))):\n",
    "    for j in range(len(d)):\n",
    "        averageList[i].append(sum(d[:j])/(j+1))\n",
    "\n",
    "for y in averageList[:len(royalturf.playerList)]:\n",
    "    plt.plot(range(len(y)),y)\n",
    "    print(y[-1])\n"
   ]
  },
  {
   "cell_type": "code",
   "execution_count": 7,
   "metadata": {},
   "outputs": [
    {
     "data": {
      "text/plain": [
       "[0.6011281718443107,\n",
       " 0.3601267968346551,\n",
       " 0.32985618212102386,\n",
       " 0.2279959124434796]"
      ]
     },
     "execution_count": 7,
     "metadata": {},
     "output_type": "execute_result"
    }
   ],
   "source": [
    "bL[3]"
   ]
  },
  {
   "cell_type": "code",
   "execution_count": 8,
   "metadata": {},
   "outputs": [
    {
     "data": {
      "text/plain": [
       "[[0.12987258983277794,\n",
       "  0.49746733743655647,\n",
       "  0.02198231589189148,\n",
       "  0.8086507196874541],\n",
       " [0.6712366600208066,\n",
       "  0.3603779088214518,\n",
       "  0.2941748914786395,\n",
       "  0.12817893424214577],\n",
       " [0.042889423928346604,\n",
       "  0.41968390781065024,\n",
       "  0.408353725986463,\n",
       "  0.7964611685027702],\n",
       " [0.6011281718443107,\n",
       "  0.3601267968346551,\n",
       "  0.32985618212102386,\n",
       "  0.2279959124434796],\n",
       " [0.24578589218644842,\n",
       "  0.9221303785708332,\n",
       "  0.21502482904435372,\n",
       "  0.7419791983339306],\n",
       " [0.48480702500345396,\n",
       "  0.9636157842633216,\n",
       "  0.2921712621806406,\n",
       "  0.8444177189292708],\n",
       " [0.16732604676069063,\n",
       "  0.9606224327828108,\n",
       "  0.31226697652458024,\n",
       "  0.3476384357208373]]"
      ]
     },
     "execution_count": 8,
     "metadata": {},
     "output_type": "execute_result"
    }
   ],
   "source": [
    "bL"
   ]
  },
  {
   "cell_type": "code",
   "execution_count": 9,
   "metadata": {},
   "outputs": [
    {
     "data": {
      "text/plain": [
       "[[0.8944242761784774,\n",
       "  0.3680885904947293,\n",
       "  0.4669978329155344,\n",
       "  0.28931865082652286,\n",
       "  0.8843687366281047,\n",
       "  0.04028586956139657,\n",
       "  0.544218492526187],\n",
       " [0.585684335155577,\n",
       "  0.9835150533662921,\n",
       "  0.05182848317140165,\n",
       "  0.3181228183867244,\n",
       "  0.10754807462171745,\n",
       "  0.8265530552477146,\n",
       "  0.28965353261092075],\n",
       " [0.13725452954359618,\n",
       "  0.6941250776734122,\n",
       "  0.4162920979952601,\n",
       "  0.46501738069377574,\n",
       "  0.5397572063926082,\n",
       "  0.8626915809045479,\n",
       "  0.7795168353596597],\n",
       " [0.7336891100398114,\n",
       "  0.22879282881984586,\n",
       "  0.2921213511949198,\n",
       "  0.8453907100501376,\n",
       "  0.03726484013379783,\n",
       "  0.7045560113941438,\n",
       "  0.15240976094137593],\n",
       " [0.008855595705657415,\n",
       "  0.7092000709445789,\n",
       "  0.9361340356484569,\n",
       "  0.60680800334769,\n",
       "  0.6473432171997623,\n",
       "  0.24312400986301252,\n",
       "  0.26128027414318256],\n",
       " [0.502687280283231,\n",
       "  0.28558490286789995,\n",
       "  0.06094877220617556,\n",
       "  0.23720831507795181,\n",
       "  0.039552302035883,\n",
       "  0.41890656791167313,\n",
       "  0.752057577466416],\n",
       " [0.7151698489118349,\n",
       "  0.12216369059276333,\n",
       "  0.6313822595453835,\n",
       "  0.7980652877993417,\n",
       "  0.8629408639426397,\n",
       "  0.9095002077431855,\n",
       "  0.6511774329351129]]"
      ]
     },
     "execution_count": 9,
     "metadata": {},
     "output_type": "execute_result"
    }
   ],
   "source": [
    "hL"
   ]
  },
  {
   "cell_type": "code",
   "execution_count": null,
   "metadata": {},
   "outputs": [],
   "source": []
  }
 ],
 "metadata": {
  "interpreter": {
   "hash": "fa6c3210df7ba49c129d714f39008150a318b539360e45175a085e2d24e30d7b"
  },
  "kernelspec": {
   "display_name": "Python 3",
   "language": "python",
   "name": "python3"
  },
  "language_info": {
   "codemirror_mode": {
    "name": "ipython",
    "version": 3
   },
   "file_extension": ".py",
   "mimetype": "text/x-python",
   "name": "python",
   "nbconvert_exporter": "python",
   "pygments_lexer": "ipython3",
   "version": "3.8.8"
  }
 },
 "nbformat": 4,
 "nbformat_minor": 4
}
