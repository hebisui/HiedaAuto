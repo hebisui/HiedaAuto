{
 "cells": [
  {
   "cell_type": "code",
   "execution_count": null,
   "metadata": {},
   "outputs": [],
   "source": [
    "ssokid=\"\"#ssokid\n",
    "password=\"\"#ssokidのパスワード"
   ]
  },
  {
   "cell_type": "code",
   "execution_count": 1,
   "metadata": {},
   "outputs": [],
   "source": [
    "\n",
    "from selenium import webdriver\n",
    "import time\n",
    "import pandas as pd\n",
    "import pyautogui as pgui"
   ]
  },
  {
   "cell_type": "code",
   "execution_count": 2,
   "metadata": {},
   "outputs": [],
   "source": [
    "# from selenium.webdriver.chrome.options import Options # オプションを使うために必要\n",
    " \n",
    "# options = Opetions = Options()\n",
    "# chrome_path = '/Applications/Google Chrome.app/Contents/MacOS/Google Chrome'\n",
    "# options.add_argument('--headless')\n",
    "#!pip install chromedriver-binary==89.0.4389.23.0\n",
    "#!pip install webdriver-manager\n",
    "#!pip install webdriver-manager\n",
    "#!pip3 install pyautogui\n",
    "import chromedriver_binary\n",
    "from webdriver_manager.chrome import ChromeDriverManager\n",
    "\n",
    "\n",
    "from selenium import webdriver              # Webブラウザを自動操作する（python -m pip install selenium)\n",
    "import chromedriver_binary                  # パスを通すためのコード\n",
    "from selenium.webdriver.chrome.options import Options # オプションを使うために必要\n",
    " \n",
    "# option = Options()                          # オプションを用意\n",
    "# option.add_argument('--headless')           # ヘッドレスモードの設定を付与\n",
    "# browser = webdriver.Chrome(ChromeDriverManager().install(),options=option)"
   ]
  },
  {
   "cell_type": "code",
   "execution_count": 3,
   "metadata": {},
   "outputs": [],
   "source": [
    "# option = Options()                         \n",
    "# option.add_argument('--headless')          \n",
    "# browser = webdriver.Chrome(ChromeDriverManager().install(),options=option)"
   ]
  },
  {
   "cell_type": "code",
   "execution_count": 4,
   "metadata": {},
   "outputs": [],
   "source": [
    "browser=webdriver.Chrome()"
   ]
  },
  {
   "cell_type": "code",
   "execution_count": 5,
   "metadata": {},
   "outputs": [
    {
     "name": "stdout",
     "output_type": "stream",
     "text": [
      "ログインページにアクセスしました\n"
     ]
    }
   ],
   "source": [
    "url_login=\"https://moodle.s.kyushu-u.ac.jp/login/index.php\"\n",
    "browser.get(url_login)\n",
    "time.sleep(1)\n",
    "print(\"ログインページにアクセスしました\")"
   ]
  },
  {
   "cell_type": "code",
   "execution_count": 6,
   "metadata": {},
   "outputs": [
    {
     "name": "stdout",
     "output_type": "stream",
     "text": [
      "フォームを送信\n"
     ]
    }
   ],
   "source": [
    "element=browser.find_element_by_name(\"username\")\n",
    "element.clear\n",
    "element.send_keys(ssokid)#SSOKIDをにゅうりょく\n",
    "element=browser.find_element_by_name(\"password\")\n",
    "element.clear\n",
    "element.send_keys(password)#パスワードをにゅうりょく\n",
    "print(\"フォームを送信\")"
   ]
  },
  {
   "cell_type": "code",
   "execution_count": 7,
   "metadata": {},
   "outputs": [
    {
     "name": "stdout",
     "output_type": "stream",
     "text": [
      "ログインした\n"
     ]
    }
   ],
   "source": [
    "browser_from=browser.find_element_by_class_name('btn')\n",
    "time.sleep(1)\n",
    "browser_from.click()\n",
    "print(\"ログインした\")\n",
    "time.sleep(1)"
   ]
  },
  {
   "cell_type": "code",
   "execution_count": 8,
   "metadata": {},
   "outputs": [
    {
     "name": "stdout",
     "output_type": "stream",
     "text": [
      "Message: no such element: Unable to locate element: {\"method\":\"css selector\",\"selector\":\".closed\"}\n",
      "  (Session info: chrome=89.0.4389.128)\n",
      "\n",
      "2\n",
      "homeは展開済み\n"
     ]
    }
   ],
   "source": [
    "def syori(a):\n",
    "    try:\n",
    "        browser_from=browser.find_element_by_class_name('closed')\n",
    "        aria=1\n",
    "        print(aria)\n",
    "        browser_from=browser.find_element_by_xpath('//*[@id=\"page-wrapper\"]/nav/div/button')\n",
    "        time.sleep(1)\n",
    "        browser_from.click()\n",
    "        print(\"homeを展開\")\n",
    "        time.sleep(1)\n",
    "    except Exception as e:\n",
    "        aria=2\n",
    "        print(e)\n",
    "        print(aria)\n",
    "        print(\"homeは展開済み\")\n",
    "\n",
    "syori(1)"
   ]
  },
  {
   "cell_type": "code",
   "execution_count": 9,
   "metadata": {},
   "outputs": [
    {
     "name": "stdout",
     "output_type": "stream",
     "text": [
      "宇都宮先生\n"
     ]
    }
   ],
   "source": [
    "browser_from=browser.find_element_by_xpath('//*[@id=\"nav-drawer\"]/nav/ul/li[7]/a/div/div/span[2]')\n",
    "time.sleep(1)\n",
    "browser_from.click()\n",
    "print(\"先生\")\n",
    "time.sleep(1)\n"
   ]
  },
  {
   "cell_type": "code",
   "execution_count": 10,
   "metadata": {},
   "outputs": [
    {
     "name": "stdout",
     "output_type": "stream",
     "text": [
      "出席完了\n"
     ]
    }
   ],
   "source": [
    "browser_from=browser.find_element_by_xpath('//*[@id=\"inst279191\"]/div/div/a')\n",
    "time.sleep(2)\n",
    "browser_from.click()\n",
    "\n",
    "time.sleep(2)\n",
    "print(\"出席完了\")\n",
    "time.sleep(2)"
   ]
  },
  {
   "cell_type": "code",
   "execution_count": 11,
   "metadata": {},
   "outputs": [],
   "source": [
    "browser_from=browser.find_element_by_xpath('//*[@id=\"action-menu-toggle-1\"]')\n",
    "time.sleep(1)\n",
    "browser_from.click()\n",
    "time.sleep(1)\n",
    "\n",
    "browser_from=browser.find_element_by_xpath('//*[@id=\"actionmenuaction-6\"]')\n",
    "time.sleep(1)\n",
    "browser_from.click()\n",
    "time.sleep(2)"
   ]
  },
  {
   "cell_type": "code",
   "execution_count": 12,
   "metadata": {},
   "outputs": [],
   "source": [
    "pgui.hotkey(\"ctrl\",\"w\")"
   ]
  }
 ],
 "metadata": {
  "kernelspec": {
   "display_name": "Python 3",
   "language": "python",
   "name": "python3"
  },
  "language_info": {
   "codemirror_mode": {
    "name": "ipython",
    "version": 3
   },
   "file_extension": ".py",
   "mimetype": "text/x-python",
   "name": "python",
   "nbconvert_exporter": "python",
   "pygments_lexer": "ipython3",
   "version": "3.8.8"
  }
 },
 "nbformat": 4,
 "nbformat_minor": 4
}
